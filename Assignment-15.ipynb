{
 "cells": [
  {
   "cell_type": "code",
   "execution_count": 19,
   "id": "c185c20b",
   "metadata": {},
   "outputs": [],
   "source": [
    "def div(num):\n",
    "    for i in range(num+1):\n",
    "        if i%7==0 and i%5==0:\n",
    "            yield i"
   ]
  },
  {
   "cell_type": "code",
   "execution_count": 24,
   "id": "22c38c31",
   "metadata": {},
   "outputs": [
    {
     "name": "stdout",
     "output_type": "stream",
     "text": [
      "Enter number: 100\n",
      "0,35,70\n"
     ]
    }
   ],
   "source": [
    "num = int(input(\"Enter number: \"))\n",
    "lst=[]\n",
    "for i in div(num):\n",
    "    lst.append(str(i))\n",
    "print(\",\".join(lst))"
   ]
  },
  {
   "cell_type": "code",
   "execution_count": 25,
   "id": "05c99420",
   "metadata": {},
   "outputs": [],
   "source": [
    "def even(num):\n",
    "    for i in range(num+1):\n",
    "        if i%2==0:\n",
    "            yield i"
   ]
  },
  {
   "cell_type": "code",
   "execution_count": 27,
   "id": "1e41f637",
   "metadata": {},
   "outputs": [
    {
     "name": "stdout",
     "output_type": "stream",
     "text": [
      "Enter number: 20\n",
      "0,2,4,6,8,10,12,14,16,18,20\n"
     ]
    }
   ],
   "source": [
    "num = int(input(\"Enter number: \"))\n",
    "lst=[]\n",
    "for i in even(num):\n",
    "    lst.append(str(i))\n",
    "print(\",\".join(lst))"
   ]
  },
  {
   "cell_type": "code",
   "execution_count": 41,
   "id": "9f85052d",
   "metadata": {},
   "outputs": [
    {
     "name": "stdout",
     "output_type": "stream",
     "text": [
      "[0, 1, 1, 2, 3, 5, 8, 13, 21]\n"
     ]
    }
   ],
   "source": [
    "## fibonnaci series \n",
    "num=7\n",
    "lst=[0,1]  \n",
    "[lst.append(lst[-2]+lst[-1]) for i in range(num)]\n",
    "print(lst) "
   ]
  },
  {
   "cell_type": "code",
   "execution_count": 42,
   "id": "89ef7a94",
   "metadata": {},
   "outputs": [
    {
     "name": "stdout",
     "output_type": "stream",
     "text": [
      "1 2 3 5 8 13 21 "
     ]
    }
   ],
   "source": [
    "## Standard for loop of fibonnaci series\n",
    "a=0\n",
    "b=1\n",
    "for i in range(7):\n",
    "    res=a+b\n",
    "    print(res,end=\" \")\n",
    "    a=b\n",
    "    b=res\n"
   ]
  },
  {
   "cell_type": "code",
   "execution_count": 44,
   "id": "0f49c476",
   "metadata": {},
   "outputs": [
    {
     "name": "stdout",
     "output_type": "stream",
     "text": [
      "john\n"
     ]
    }
   ],
   "source": [
    "email =\"john@google.com\".split(\"@\")\n",
    "print(email[0])"
   ]
  },
  {
   "cell_type": "code",
   "execution_count": 58,
   "id": "dc9e82d0",
   "metadata": {},
   "outputs": [],
   "source": [
    "class Shape:\n",
    "    def __init__(self):\n",
    "        pass\n",
    "    def area(self):\n",
    "        return 0\n",
    "class Square(Shape):\n",
    "    def __init__(self,length):\n",
    "        Shape.__init__(self)\n",
    "        self.length=length\n",
    "    def area(self):\n",
    "        return self.length **2"
   ]
  },
  {
   "cell_type": "code",
   "execution_count": 60,
   "id": "fc127947",
   "metadata": {},
   "outputs": [
    {
     "name": "stdout",
     "output_type": "stream",
     "text": [
      "Area of Shape is  0\n",
      "Area of Square is  16\n"
     ]
    }
   ],
   "source": [
    "shapeobj = Shape()\n",
    "print(\"Area of Shape is \",shapeobj.area())\n",
    "squareobj = Square(4)\n",
    "print(\"Area of Square is \",squareobj.area())"
   ]
  }
 ],
 "metadata": {
  "kernelspec": {
   "display_name": "Python 3",
   "language": "python",
   "name": "python3"
  },
  "language_info": {
   "codemirror_mode": {
    "name": "ipython",
    "version": 3
   },
   "file_extension": ".py",
   "mimetype": "text/x-python",
   "name": "python",
   "nbconvert_exporter": "python",
   "pygments_lexer": "ipython3",
   "version": "3.6.9"
  }
 },
 "nbformat": 4,
 "nbformat_minor": 5
}
