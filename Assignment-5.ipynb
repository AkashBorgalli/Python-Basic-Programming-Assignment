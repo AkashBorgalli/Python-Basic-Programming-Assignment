{
 "cells": [
  {
   "cell_type": "code",
   "execution_count": 1,
   "metadata": {},
   "outputs": [],
   "source": [
    "def lcm(n1,n2):\n",
    "    if n1>n2:\n",
    "        higher=n1\n",
    "    else:\n",
    "        higher=n2\n",
    "    value = higher\n",
    "    while True:\n",
    "            if higher%n1==0 and higher%n2==0:\n",
    "                print(\"Lcm of \",n1,\"and \",n2,\"is \",higher)\n",
    "                break\n",
    "            else:\n",
    "                higher=higher+value"
   ]
  },
  {
   "cell_type": "code",
   "execution_count": 2,
   "metadata": {},
   "outputs": [
    {
     "name": "stdout",
     "output_type": "stream",
     "text": [
      "Lcm of  2 and  3 is  6\n"
     ]
    }
   ],
   "source": [
    "lcm(2,3)"
   ]
  },
  {
   "cell_type": "code",
   "execution_count": 3,
   "metadata": {},
   "outputs": [
    {
     "data": {
      "text/plain": [
       "2"
      ]
     },
     "execution_count": 3,
     "metadata": {},
     "output_type": "execute_result"
    }
   ],
   "source": [
    "import math\n",
    "math.gcd(4,18)"
   ]
  },
  {
   "cell_type": "code",
   "execution_count": 4,
   "metadata": {},
   "outputs": [],
   "source": [
    "## logic of hcf\n",
    "def giveHCF(a,b):\n",
    "    if b==0:\n",
    "        return a\n",
    "    else:\n",
    "        return giveHCF(b,a%b)\n"
   ]
  },
  {
   "cell_type": "code",
   "execution_count": 8,
   "metadata": {},
   "outputs": [
    {
     "data": {
      "text/plain": [
       "12"
      ]
     },
     "execution_count": 8,
     "metadata": {},
     "output_type": "execute_result"
    }
   ],
   "source": [
    "giveHCF(12,48)"
   ]
  },
  {
   "cell_type": "code",
   "execution_count": 10,
   "metadata": {},
   "outputs": [
    {
     "name": "stdout",
     "output_type": "stream",
     "text": [
      "The decimal value of 344 is:\n",
      "Binary value of number 344 is 0b101011000\n",
      "Octal value of number 344 is 0o530\n",
      "Hexadecimal value of number 344 is 0x158\n"
     ]
    }
   ],
   "source": [
    "dec = 344\n",
    "\n",
    "print(\"The decimal value of\", dec, \"is:\")\n",
    "print(\"Binary value of number\",dec,\"is\",bin(dec))\n",
    "print(\"Octal value of number\",dec,\"is\",oct(dec))\n",
    "print(\"Hexadecimal value of number\",dec,\"is\",hex(dec))"
   ]
  },
  {
   "cell_type": "code",
   "execution_count": 11,
   "metadata": {},
   "outputs": [
    {
     "name": "stdout",
     "output_type": "stream",
     "text": [
      "The ASCII value of 'T' is 84\n"
     ]
    }
   ],
   "source": [
    "ch = 'T'\n",
    "print(\"The ASCII value of '\" + ch + \"' is\", ord(ch))"
   ]
  },
  {
   "cell_type": "code",
   "execution_count": 18,
   "metadata": {},
   "outputs": [],
   "source": [
    "def calculator():\n",
    "  print(\"+\")\n",
    "  print(\"-\")\n",
    "  print(\"*\")\n",
    "  print(\"/\")\n",
    "  operation = input(\"Select an operator:\")\n",
    "  print(\"Enter two numbers\")\n",
    "  number_1 = int(input())\n",
    "  number_2 = int(input())\n",
    "\n",
    "  if operation == '+': # To add two numbers\n",
    "    print(\"The Addition of number is \",number_1 + number_2)\n",
    "\n",
    "  elif operation == '-': # To subtract two numbers\n",
    "    print(\"The Substraction of number is \",number_1 - number_2)\n",
    "\n",
    "  elif operation == '*': # To multiply two numbers\n",
    "    print(\"The Multiplication of number is \",number_1 * number_2)\n",
    "\n",
    "  elif operation == '/': # To divide two numbers\n",
    "    print(\"The Division of number is \",number_1 / number_2)\n",
    "\n",
    "  else:\n",
    "    print('Invalid Input')"
   ]
  },
  {
   "cell_type": "code",
   "execution_count": 19,
   "metadata": {},
   "outputs": [
    {
     "name": "stdout",
     "output_type": "stream",
     "text": [
      "+\n",
      "-\n",
      "*\n",
      "/\n",
      "Select an operator:*\n",
      "Enter two numbers\n",
      "8\n",
      "9\n",
      "The Multiplication of number is  72\n"
     ]
    }
   ],
   "source": [
    "calculator()"
   ]
  }
 ],
 "metadata": {
  "kernelspec": {
   "display_name": "Python 3",
   "language": "python",
   "name": "python3"
  },
  "language_info": {
   "codemirror_mode": {
    "name": "ipython",
    "version": 3
   },
   "file_extension": ".py",
   "mimetype": "text/x-python",
   "name": "python",
   "nbconvert_exporter": "python",
   "pygments_lexer": "ipython3",
   "version": "3.8.5"
  }
 },
 "nbformat": 4,
 "nbformat_minor": 4
}
