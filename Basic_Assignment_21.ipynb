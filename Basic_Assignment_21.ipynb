{
 "cells": [
  {
   "cell_type": "code",
   "execution_count": null,
   "id": "58779700",
   "metadata": {},
   "outputs": [],
   "source": [
    "next_in_line([5, 6, 7, 8, 9], 1) ➞ [6, 7, 8, 9, 1]"
   ]
  },
  {
   "cell_type": "code",
   "execution_count": 12,
   "id": "b02b7c23",
   "metadata": {},
   "outputs": [],
   "source": [
    "def next_in_line(lst,add):\n",
    "    if len(lst) == 0:\n",
    "        return \"No list has been selected\"\n",
    "    else:\n",
    "        lst.pop(0)\n",
    "        lst.append(add)\n",
    "        \n",
    "    return lst"
   ]
  },
  {
   "cell_type": "code",
   "execution_count": 13,
   "id": "12c1f7ed",
   "metadata": {},
   "outputs": [
    {
     "data": {
      "text/plain": [
       "[6, 7, 8, 9, 1]"
      ]
     },
     "execution_count": 13,
     "metadata": {},
     "output_type": "execute_result"
    }
   ],
   "source": [
    "next_in_line([5, 6, 7, 8, 9], 1)"
   ]
  },
  {
   "cell_type": "code",
   "execution_count": 14,
   "id": "3772c400",
   "metadata": {},
   "outputs": [
    {
     "data": {
      "text/plain": [
       "[6, 3, 23, 17, 10]"
      ]
     },
     "execution_count": 14,
     "metadata": {},
     "output_type": "execute_result"
    }
   ],
   "source": [
    "next_in_line([7, 6, 3, 23, 17], 10)"
   ]
  },
  {
   "cell_type": "code",
   "execution_count": 15,
   "id": "bf3714b6",
   "metadata": {},
   "outputs": [
    {
     "data": {
      "text/plain": [
       "[10, 20, 42, 6]"
      ]
     },
     "execution_count": 15,
     "metadata": {},
     "output_type": "execute_result"
    }
   ],
   "source": [
    "next_in_line([1, 10, 20, 42 ], 6) "
   ]
  },
  {
   "cell_type": "code",
   "execution_count": 16,
   "id": "1c270c0b",
   "metadata": {},
   "outputs": [
    {
     "data": {
      "text/plain": [
       "'No list has been selected'"
      ]
     },
     "execution_count": 16,
     "metadata": {},
     "output_type": "execute_result"
    }
   ],
   "source": [
    "next_in_line([], 6)"
   ]
  },
  {
   "cell_type": "code",
   "execution_count": 57,
   "id": "138cea03",
   "metadata": {},
   "outputs": [],
   "source": [
    "def get_budgets(lst):\n",
    "    temp = 0\n",
    "    add = 0\n",
    "    t = []\n",
    "    for i in lst:\n",
    "        temp = i\n",
    "        t.append(temp['budget'])\n",
    "        add = sum(t)\n",
    "    return add    "
   ]
  },
  {
   "cell_type": "code",
   "execution_count": 59,
   "id": "049fb8dc",
   "metadata": {},
   "outputs": [
    {
     "data": {
      "text/plain": [
       "65700"
      ]
     },
     "execution_count": 59,
     "metadata": {},
     "output_type": "execute_result"
    }
   ],
   "source": [
    "get_budgets([\n",
    "  { \"name\": \"John\", \"age\": 21, \"budget\": 23000 },\n",
    "  { \"name\": \"Steve\",  \"age\": 32, \"budget\": 40000 },\n",
    "  { \"name\": \"Martin\",  \"age\": 16, \"budget\": 2700 }\n",
    "])\n"
   ]
  },
  {
   "cell_type": "code",
   "execution_count": 60,
   "id": "cc78f6f3",
   "metadata": {},
   "outputs": [
    {
     "data": {
      "text/plain": [
       "62600"
      ]
     },
     "execution_count": 60,
     "metadata": {},
     "output_type": "execute_result"
    }
   ],
   "source": [
    "get_budgets([\n",
    "  { \"name\": \"John\",  \"age\": 21, \"budget\": 29000 },\n",
    "  { \"name\": \"Steve\",  \"age\": 32, \"budget\": 32000 },\n",
    "  { \"name\": \"Martin\",  \"age\": 16, \"budget\": 1600 }\n",
    "])\n"
   ]
  },
  {
   "cell_type": "code",
   "execution_count": 61,
   "id": "2ed0b543",
   "metadata": {},
   "outputs": [],
   "source": [
    "def alphabet_soup(s):\n",
    "    lst = []\n",
    "    for i in s:\n",
    "        lst.append(i)\n",
    "        lst.sort()\n",
    "        m = \"\".join(lst)\n",
    "    return m"
   ]
  },
  {
   "cell_type": "code",
   "execution_count": 62,
   "id": "3f75982c",
   "metadata": {},
   "outputs": [
    {
     "data": {
      "text/plain": [
       "'ehllo'"
      ]
     },
     "execution_count": 62,
     "metadata": {},
     "output_type": "execute_result"
    }
   ],
   "source": [
    "alphabet_soup(\"hello\")"
   ]
  },
  {
   "cell_type": "code",
   "execution_count": 63,
   "id": "670118c0",
   "metadata": {},
   "outputs": [
    {
     "data": {
      "text/plain": [
       "'abdeit'"
      ]
     },
     "execution_count": 63,
     "metadata": {},
     "output_type": "execute_result"
    }
   ],
   "source": [
    "alphabet_soup(\"edabit\")"
   ]
  },
  {
   "cell_type": "code",
   "execution_count": 64,
   "id": "9fa3b688",
   "metadata": {},
   "outputs": [
    {
     "data": {
      "text/plain": [
       "'acehkr'"
      ]
     },
     "execution_count": 64,
     "metadata": {},
     "output_type": "execute_result"
    }
   ],
   "source": [
    "alphabet_soup(\"hacker\") "
   ]
  },
  {
   "cell_type": "code",
   "execution_count": 65,
   "id": "cacbaba5",
   "metadata": {},
   "outputs": [
    {
     "data": {
      "text/plain": [
       "'eegk'"
      ]
     },
     "execution_count": 65,
     "metadata": {},
     "output_type": "execute_result"
    }
   ],
   "source": [
    "alphabet_soup(\"geek\") "
   ]
  },
  {
   "cell_type": "code",
   "execution_count": 66,
   "id": "8a3a057d",
   "metadata": {},
   "outputs": [
    {
     "data": {
      "text/plain": [
       "'aacijprstv'"
      ]
     },
     "execution_count": 66,
     "metadata": {},
     "output_type": "execute_result"
    }
   ],
   "source": [
    "alphabet_soup(\"javascript\")"
   ]
  },
  {
   "cell_type": "code",
   "execution_count": 78,
   "id": "aea72cd4",
   "metadata": {},
   "outputs": [],
   "source": [
    "def compound_interest(P, r, n, t):\n",
    "\n",
    "    for period in range(t):\n",
    "        amount = P*(pow((1+r/n), n*(period+1)))\n",
    "        print('Period:', period+1, amount)\n",
    "\n",
    "    return round(amount,2)"
   ]
  },
  {
   "cell_type": "code",
   "execution_count": 79,
   "id": "37167fe0",
   "metadata": {},
   "outputs": [
    {
     "name": "stdout",
     "output_type": "stream",
     "text": [
      "Period: 1 10616.778118644983\n",
      "Period: 2 11271.597762053889\n",
      "Period: 3 11966.805248234146\n",
      "Period: 4 12704.891610953824\n",
      "Period: 5 13488.501525493075\n",
      "Period: 6 14320.442784916433\n",
      "Period: 7 15203.696360820819\n",
      "Period: 8 16141.427084608484\n",
      "Period: 9 17136.994987557482\n",
      "Period: 10 18193.9673403229\n"
     ]
    },
    {
     "data": {
      "text/plain": [
       "18193.97"
      ]
     },
     "execution_count": 79,
     "metadata": {},
     "output_type": "execute_result"
    }
   ],
   "source": [
    "compound_interest(10000, 0.06,12 , 10) "
   ]
  },
  {
   "cell_type": "code",
   "execution_count": 80,
   "id": "ea109d00",
   "metadata": {},
   "outputs": [
    {
     "name": "stdout",
     "output_type": "stream",
     "text": [
      "Period: 1 105.0\n"
     ]
    },
    {
     "data": {
      "text/plain": [
       "105.0"
      ]
     },
     "execution_count": 80,
     "metadata": {},
     "output_type": "execute_result"
    }
   ],
   "source": [
    "compound_interest(100,0.05,1 , 1) "
   ]
  },
  {
   "cell_type": "code",
   "execution_count": 81,
   "id": "4497b608",
   "metadata": {},
   "outputs": [
    {
     "name": "stdout",
     "output_type": "stream",
     "text": [
      "Period: 1 3863.3451171874985\n",
      "Period: 2 4264.41014128471\n",
      "Period: 3 4707.11088486204\n",
      "Period: 4 5195.769672311968\n",
      "Period: 5 5735.15754101638\n",
      "Period: 6 6330.540823539055\n",
      "Period: 7 6987.732565650211\n",
      "Period: 8 7713.149282204804\n",
      "Period: 9 8513.873605012624\n",
      "Period: 10 9397.72343436487\n",
      "Period: 11 10373.328269380589\n",
      "Period: 12 11450.213462427011\n",
      "Period: 13 12638.893220234846\n",
      "Period: 14 13950.973259728135\n",
      "Period: 15 15399.264120852586\n"
     ]
    },
    {
     "data": {
      "text/plain": [
       "15399.26"
      ]
     },
     "execution_count": 81,
     "metadata": {},
     "output_type": "execute_result"
    }
   ],
   "source": [
    "compound_interest(3500,0.1,4, 15)"
   ]
  },
  {
   "cell_type": "code",
   "execution_count": 82,
   "id": "46380342",
   "metadata": {},
   "outputs": [
    {
     "name": "stdout",
     "output_type": "stream",
     "text": [
      "Period: 1 116179.84431282738\n",
      "Period: 2 134977.56224552807\n",
      "Period: 3 156816.7216741042\n",
      "Period: 4 182189.42309745404\n",
      "Period: 5 211667.3881090605\n",
      "Period: 6 245914.84196613455\n",
      "Period: 7 285703.4805383906\n",
      "Period: 8 331929.85888583126\n",
      "Period: 9 385635.5932813464\n",
      "Period: 10 448030.83188911644\n",
      "Period: 11 520521.52296224074\n",
      "Period: 12 604741.0949922893\n",
      "Period: 13 702587.2626577292\n",
      "Period: 14 816264.7879175055\n",
      "Period: 15 948335.1597829883\n",
      "Period: 16 1101774.3121996785\n",
      "Period: 17 1280039.680592311\n",
      "Period: 18 1487148.1080545597\n",
      "Period: 19 1727766.3566389454\n",
      "Period: 20 2007316.2632325366\n"
     ]
    },
    {
     "data": {
      "text/plain": [
       "2007316.26"
      ]
     },
     "execution_count": 82,
     "metadata": {},
     "output_type": "execute_result"
    }
   ],
   "source": [
    "compound_interest(100000, 0.15,365,20)"
   ]
  },
  {
   "cell_type": "code",
   "execution_count": 97,
   "id": "08319681",
   "metadata": {},
   "outputs": [],
   "source": [
    "def return_only_integer(lst):\n",
    "    temp = []\n",
    "    for i in lst:\n",
    "        if type(i) == int:\n",
    "            temp.append(i)\n",
    "    return temp\n",
    "            \n",
    "    "
   ]
  },
  {
   "cell_type": "code",
   "execution_count": 98,
   "id": "a8ac77f9",
   "metadata": {},
   "outputs": [
    {
     "data": {
      "text/plain": [
       "[9, 2, 16]"
      ]
     },
     "execution_count": 98,
     "metadata": {},
     "output_type": "execute_result"
    }
   ],
   "source": [
    "return_only_integer([9, 2, \"space\", \"car\", \"lion\", 16])"
   ]
  },
  {
   "cell_type": "code",
   "execution_count": 99,
   "id": "1ab32618",
   "metadata": {},
   "outputs": [
    {
     "data": {
      "text/plain": [
       "[81, 123]"
      ]
     },
     "execution_count": 99,
     "metadata": {},
     "output_type": "execute_result"
    }
   ],
   "source": [
    "return_only_integer([\"hello\", 81, \"basketball\", 123, \"fox\"])"
   ]
  },
  {
   "cell_type": "code",
   "execution_count": 101,
   "id": "f07dc9aa",
   "metadata": {},
   "outputs": [
    {
     "data": {
      "text/plain": [
       "[10, 56, 20, 3]"
      ]
     },
     "execution_count": 101,
     "metadata": {},
     "output_type": "execute_result"
    }
   ],
   "source": [
    "return_only_integer([10, \"121\", 56, 20, \"car\", 3, \"lion\"])"
   ]
  },
  {
   "cell_type": "code",
   "execution_count": 102,
   "id": "359590f0",
   "metadata": {},
   "outputs": [
    {
     "data": {
      "text/plain": [
       "[1]"
      ]
     },
     "execution_count": 102,
     "metadata": {},
     "output_type": "execute_result"
    }
   ],
   "source": [
    "return_only_integer([\"String\",  True,  3.3,  1]) "
   ]
  }
 ],
 "metadata": {
  "kernelspec": {
   "display_name": "Python 3",
   "language": "python",
   "name": "python3"
  },
  "language_info": {
   "codemirror_mode": {
    "name": "ipython",
    "version": 3
   },
   "file_extension": ".py",
   "mimetype": "text/x-python",
   "name": "python",
   "nbconvert_exporter": "python",
   "pygments_lexer": "ipython3",
   "version": "3.7.1"
  }
 },
 "nbformat": 4,
 "nbformat_minor": 5
}
