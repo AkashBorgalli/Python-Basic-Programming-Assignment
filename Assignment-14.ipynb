{
 "cells": [
  {
   "cell_type": "code",
   "execution_count": 54,
   "id": "7b8b86da",
   "metadata": {},
   "outputs": [],
   "source": [
    "class divisibilityof7:\n",
    "    def __init__(self,num):\n",
    "        self.num=num\n",
    "    def divisible_by_7(self):\n",
    "        \"\"\"\n",
    "        Its a generator function.\n",
    "        This function creates range from 0 to the given args to give numbers that are divisible by 7\n",
    "  \n",
    "        Parameters:\n",
    "        num (int): Its accepts integer value to create range\n",
    "  \n",
    "        Returns:\n",
    "        int: Numbers Divisible by 7\n",
    "        \"\"\"\n",
    "        for n in range(0,self.num+1):\n",
    "            if n%7==0:\n",
    "                yield n"
   ]
  },
  {
   "cell_type": "code",
   "execution_count": 55,
   "id": "acb38b0f",
   "metadata": {},
   "outputs": [],
   "source": [
    "obj=divisibilityof7(50)"
   ]
  },
  {
   "cell_type": "code",
   "execution_count": 56,
   "id": "35252bf8",
   "metadata": {},
   "outputs": [
    {
     "name": "stdout",
     "output_type": "stream",
     "text": [
      "0 7 14 21 28 35 42 49 "
     ]
    }
   ],
   "source": [
    "for num in obj.divisible_by_7():\n",
    "    print(num,end=\" \")"
   ]
  },
  {
   "cell_type": "code",
   "execution_count": 71,
   "id": "3b8f8fed",
   "metadata": {},
   "outputs": [
    {
     "name": "stdout",
     "output_type": "stream",
     "text": [
      "Enter your sentence: New to Python or choosing between Python 2 and Python 3? Read Python 2 or Python 3\n",
      "2 : 2\n",
      "3 : 1\n",
      "3? : 1\n",
      "New : 1\n",
      "Python : 5\n",
      "Read : 1\n",
      "and : 1\n",
      "between : 1\n",
      "choosing : 1\n",
      "or : 2\n",
      "to : 1\n"
     ]
    }
   ],
   "source": [
    "sentence = input(\"Enter your sentence: \").split(\" \") \n",
    "sentence.sort()\n",
    "dc={}\n",
    "st = set()\n",
    "for i in sentence:\n",
    "    if i not in st:\n",
    "        counts=sentence.count(i)\n",
    "        dc.update({i:counts})\n",
    "        st.add(i)\n",
    "for k,v in dc.items():\n",
    "    print(k,\":\",v)"
   ]
  },
  {
   "cell_type": "code",
   "execution_count": 76,
   "id": "4f47f6be",
   "metadata": {},
   "outputs": [],
   "source": [
    "class Person:\n",
    "    pass\n",
    "class Male(Person):\n",
    "    def __init__(self,gender):\n",
    "        self.gender=gender\n",
    "    def getGender(self):\n",
    "        return \"He is \" + self.gender\n",
    "class Female(Person):\n",
    "    def __init__(self,gender):\n",
    "        self.gender=gender\n",
    "    def getGender(self):\n",
    "        return \"She is \" + self.gender"
   ]
  },
  {
   "cell_type": "code",
   "execution_count": 77,
   "id": "f1a590f4",
   "metadata": {},
   "outputs": [
    {
     "name": "stdout",
     "output_type": "stream",
     "text": [
      "He is Male\n",
      "She is Female\n"
     ]
    }
   ],
   "source": [
    "maleobj = Male(\"Male\")\n",
    "print(maleobj.getGender())\n",
    "femaleobj = Female(\"Female\")\n",
    "print(femaleobj.getGender())"
   ]
  },
  {
   "cell_type": "code",
   "execution_count": 79,
   "id": "4469a33e",
   "metadata": {},
   "outputs": [
    {
     "name": "stdout",
     "output_type": "stream",
     "text": [
      "I  Play  Hockey\n",
      "I  Play  Football\n",
      "I  Love  Hockey\n",
      "I  Love  Football\n",
      "You  Play  Hockey\n",
      "You  Play  Football\n",
      "You  Love  Hockey\n",
      "You  Love  Football\n"
     ]
    }
   ],
   "source": [
    "subjects=[\"I\", \"You\"]\n",
    "verbs=[\"Play\", \"Love\"]\n",
    "objects=[\"Hockey\",\"Football\"]\n",
    "\n",
    "for sub in subjects:\n",
    "    for verb in verbs:\n",
    "        for obj in objects:\n",
    "            print(\"{}  {}  {}\".format(sub,verb,obj))"
   ]
  },
  {
   "cell_type": "code",
   "execution_count": 85,
   "id": "69f11a68",
   "metadata": {},
   "outputs": [
    {
     "name": "stdout",
     "output_type": "stream",
     "text": [
      "The compressed value of the string is  b'x\\x9c\\xcbH\\xcd\\xc9\\xc9W(\\xcf/\\xcaIQ\\xcc \\x82\\r\\x00\\xbd[\\x11\\xf5'\n",
      "The decompressed value of the string is  b'hello world!hello world!hello world!hello world!'\n"
     ]
    }
   ],
   "source": [
    "sent = 'hello world!hello world!hello world!hello world!'\n",
    "convertb = bytes(sent, 'utf-8')\n",
    "compressedvalue = zlib.compress(convertb)\n",
    "print(\"The compressed value of the string is \",compressedvalue)\n",
    "print(\"The decompressed value of the string is \",zlib.decompress(compressedvalue))"
   ]
  },
  {
   "cell_type": "code",
   "execution_count": 109,
   "id": "563db8c0",
   "metadata": {},
   "outputs": [],
   "source": [
    "from bisect import bisect_left\n",
    "  \n",
    "def BinarySearch(a, x):\n",
    "    i = bisect_left(a, x)\n",
    "    if i != len(a) and a[i] == x:\n",
    "        return i\n",
    "    else:\n",
    "        return -1"
   ]
  },
  {
   "cell_type": "code",
   "execution_count": 111,
   "id": "ddfdc686",
   "metadata": {},
   "outputs": [
    {
     "name": "stdout",
     "output_type": "stream",
     "text": [
      "8 is present at 4 th index\n"
     ]
    }
   ],
   "source": [
    "lst  = [1, 2, 4, 5, 8]\n",
    "x = 8\n",
    "res = BinarySearch(lst, x)\n",
    "if res == -1:\n",
    "    print(x, \"is absent\")\n",
    "else:\n",
    "    print(x, \"is present at\", res,\"th index\")"
   ]
  }
 ],
 "metadata": {
  "kernelspec": {
   "display_name": "Python 3",
   "language": "python",
   "name": "python3"
  },
  "language_info": {
   "codemirror_mode": {
    "name": "ipython",
    "version": 3
   },
   "file_extension": ".py",
   "mimetype": "text/x-python",
   "name": "python",
   "nbconvert_exporter": "python",
   "pygments_lexer": "ipython3",
   "version": "3.6.9"
  }
 },
 "nbformat": 4,
 "nbformat_minor": 5
}
