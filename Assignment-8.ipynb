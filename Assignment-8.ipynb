{
 "cells": [
  {
   "cell_type": "code",
   "execution_count": 6,
   "metadata": {},
   "outputs": [],
   "source": [
    "import numpy as np\n",
    "list1=[1,2,3,4]\n",
    "list2=[4,5,6,7]\n",
    "arr = np.array([list1,list2])\n",
    "arr.shape\n",
    "list3=[24,26,37,48]\n",
    "list4=[41,52,61,70]\n",
    "arr1 = np.array([list3,list4])"
   ]
  },
  {
   "cell_type": "code",
   "execution_count": 13,
   "metadata": {},
   "outputs": [
    {
     "data": {
      "text/plain": [
       "array([[3, 5],\n",
       "       [7, 9]])"
      ]
     },
     "execution_count": 13,
     "metadata": {},
     "output_type": "execute_result"
    }
   ],
   "source": [
    "res = arr+arr1\n",
    "res"
   ]
  },
  {
   "cell_type": "code",
   "execution_count": 9,
   "metadata": {},
   "outputs": [],
   "source": [
    "list1=[2,3]\n",
    "list2=[4,5]\n",
    "arr = np.array([list1,list2])\n",
    "arr.shape\n",
    "list3=[1,2,]\n",
    "list4=[3,4]\n",
    "arr1 = np.array([list3,list4])"
   ]
  },
  {
   "cell_type": "code",
   "execution_count": 10,
   "metadata": {},
   "outputs": [
    {
     "data": {
      "text/plain": [
       "array([[ 2,  6],\n",
       "       [12, 20]])"
      ]
     },
     "execution_count": 10,
     "metadata": {},
     "output_type": "execute_result"
    }
   ],
   "source": [
    "t = arr*arr1\n",
    "t"
   ]
  },
  {
   "cell_type": "code",
   "execution_count": 20,
   "metadata": {},
   "outputs": [
    {
     "data": {
      "text/plain": [
       "array([[56, 78],\n",
       "       [34, 90]])"
      ]
     },
     "execution_count": 20,
     "metadata": {},
     "output_type": "execute_result"
    }
   ],
   "source": [
    "list7 = [56,34]\n",
    "list3=[78,90]\n",
    "arr2=np.array([list7,list3])\n",
    "k=arr2.transpose()\n",
    "k"
   ]
  },
  {
   "cell_type": "code",
   "execution_count": 39,
   "metadata": {},
   "outputs": [
    {
     "name": "stdout",
     "output_type": "stream",
     "text": [
      "None\n"
     ]
    }
   ],
   "source": [
    "p=['a','c','d']\n",
    "g=p.sort()\n",
    "print(g)"
   ]
  },
  {
   "cell_type": "code",
   "execution_count": 41,
   "metadata": {},
   "outputs": [
    {
     "name": "stdout",
     "output_type": "stream",
     "text": [
      "Enter any sentence: My name is Akash Borgalli\n",
      "The sorted words are:\n",
      "akash\n",
      "borgalli\n",
      "is\n",
      "my\n",
      "name\n"
     ]
    }
   ],
   "source": [
    "str = input(\"Enter any sentence: \")\n",
    "words = [word.lower() for word in str.split()]\n",
    "words.sort()\n",
    "print(\"The sorted words are:\")\n",
    "for word in words:\n",
    "   print(word)"
   ]
  },
  {
   "cell_type": "code",
   "execution_count": 70,
   "metadata": {},
   "outputs": [
    {
     "name": "stdout",
     "output_type": "stream",
     "text": [
      "Akash is good boy\n"
     ]
    }
   ],
   "source": [
    "def Punctuation(newstring):\n",
    "  punctuations = '''!()-[]{};:'\"\\,<>./?@#$%^&*_~'''\n",
    "  for i in newstring.lower():\n",
    "    if i in punctuations:\n",
    "        newstring = newstring.replace(i, \"\")\n",
    "  print(newstring)\n",
    "string = \"A*k*a@s!h #is$% g%#o#o^d# $%b^o&y\"\n",
    "Punctuation(string)"
   ]
  }
 ],
 "metadata": {
  "kernelspec": {
   "display_name": "Python 3",
   "language": "python",
   "name": "python3"
  },
  "language_info": {
   "codemirror_mode": {
    "name": "ipython",
    "version": 3
   },
   "file_extension": ".py",
   "mimetype": "text/x-python",
   "name": "python",
   "nbconvert_exporter": "python",
   "pygments_lexer": "ipython3",
   "version": "3.8.5"
  }
 },
 "nbformat": 4,
 "nbformat_minor": 4
}
