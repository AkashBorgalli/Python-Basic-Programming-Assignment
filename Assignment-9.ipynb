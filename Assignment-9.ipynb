{
 "cells": [
  {
   "cell_type": "code",
   "execution_count": 16,
   "metadata": {},
   "outputs": [
    {
     "name": "stdout",
     "output_type": "stream",
     "text": [
      "Enter any Number :135\n",
      "Number of Digits are:  3\n",
      "Sum of cube of digits is:  135\n",
      "Its a Dasarium Number\n"
     ]
    }
   ],
   "source": [
    "import math\n",
    "num=int(input(\"Enter any Number :\" ))\n",
    "temp=num\n",
    "temp1=num\n",
    "counter=0\n",
    "sum=0\n",
    "while(temp>0):\n",
    "    d=temp%10\n",
    "    counter+=1\n",
    "    temp=temp//10\n",
    "print(\"Number of Digits are: \",counter)\n",
    "while(temp1>0):\n",
    "    d=temp1%10\n",
    "    sum = sum+int(math.pow(d,counter))\n",
    "    counter-=1\n",
    "    temp1=temp1//10\n",
    "print(\"Sum of cube of digits is: \",sum)\n",
    "if (sum==num):\n",
    "    print(\"Its a Dasarium Number\")\n",
    "else:\n",
    "    print(\"Its not a Dasarium Number\")"
   ]
  },
  {
   "cell_type": "code",
   "execution_count": 19,
   "metadata": {},
   "outputs": [
    {
     "name": "stdout",
     "output_type": "stream",
     "text": [
      "Disarium numbers between 1 and 100 are\n",
      "1 2 3 4 5 6 7 8 9 89 "
     ]
    }
   ],
   "source": [
    "def checkLength(n):    \n",
    "    length = 0;    \n",
    "    while(n != 0):    \n",
    "        length = length + 1;    \n",
    "        n = n//10;    \n",
    "    return length;    \n",
    "def sumOfnPowerDigits(num):    \n",
    "    rem = sum = 0;    \n",
    "    len = checkLength(num);          \n",
    "    while(num > 0):    \n",
    "        rem = num%10;    \n",
    "        sum = sum +int(math.pow(rem,len)) ;    \n",
    "        num = num//10;    \n",
    "        len = len - 1;    \n",
    "    return sum;    \n",
    "result = 0;       \n",
    "print(\"Disarium numbers between 1 and 100 are\");    \n",
    "for i in range(1, 101):    \n",
    "    result = sumOfnPowerDigits(i);         \n",
    "    if(result == i):    \n",
    "        print(i,end=\" \") "
   ]
  },
  {
   "cell_type": "code",
   "execution_count": 25,
   "metadata": {},
   "outputs": [
    {
     "name": "stdout",
     "output_type": "stream",
     "text": [
      "Enter any Number :31\n",
      "31 is Happy Number\n"
     ]
    }
   ],
   "source": [
    "def sqsum(num):\n",
    "    res=0\n",
    "    rem=0\n",
    "    while(num>0):\n",
    "        rem = num%10\n",
    "        res=res+rem**2 \n",
    "        num=num//10\n",
    "    return res\n",
    "integer=int(input(\"Enter any Number :\" ))\n",
    "result=integer\n",
    "while result!=1 and result!=4:\n",
    "    result=sqsum(result)\n",
    "if result==1:\n",
    "    print(n,\"is Happy Number\")\n",
    "else:\n",
    "    print(n,\"is not a Happy Number\")"
   ]
  },
  {
   "cell_type": "code",
   "execution_count": 27,
   "metadata": {},
   "outputs": [
    {
     "name": "stdout",
     "output_type": "stream",
     "text": [
      "List of happy numbers between 1 and 100: \n",
      "1 7 10 13 19 23 28 31 32 44 49 68 70 79 82 86 91 94 97 100 "
     ]
    }
   ],
   "source": [
    "#isHappyNumber() will determine whether a number is happy or not    \n",
    "def isHappyNumber(num):    \n",
    "    rem = sum = 0;    \n",
    "#Calculates the sum of squares of digits    \n",
    "    while(num > 0):    \n",
    "        rem = num%10;    \n",
    "        sum = sum + (rem*rem);    \n",
    "        num = num//10;    \n",
    "    return sum;               \n",
    "#Displays all happy numbers between 1 and 100    \n",
    "print(\"List of happy numbers between 1 and 100: \");    \n",
    "for i in range(1, 101):    \n",
    "    result = i;    \n",
    "#Happy number always ends with 1 and     \n",
    "#unhappy number ends in a cycle of repeating numbers which contains 4    \n",
    "    while(result != 1 and result != 4):    \n",
    "        result = isHappyNumber(result);     \n",
    "    if(result == 1):    \n",
    "        print(i,end=\" \"),    \n",
    "        "
   ]
  },
  {
   "cell_type": "code",
   "execution_count": 28,
   "metadata": {},
   "outputs": [
    {
     "name": "stdout",
     "output_type": "stream",
     "text": [
      "156 is a harshad number\n"
     ]
    }
   ],
   "source": [
    "num = 156;    \n",
    "rem = sum = 0;    \n",
    "n = num;    \n",
    "while(num > 0):    \n",
    "    rem = num%10;    \n",
    "    sum = sum + rem;    \n",
    "    num = num//10;     \n",
    "if(n%sum == 0):    \n",
    "    print(str(n) + \" is a harshad number\");    \n",
    "else:    \n",
    "    print(str(n) + \" is not a harshad number\");    "
   ]
  },
  {
   "cell_type": "code",
   "execution_count": 30,
   "metadata": {},
   "outputs": [
    {
     "name": "stdout",
     "output_type": "stream",
     "text": [
      "Pronic numbers between 1 and 100: \n",
      "2 6 12 20 30 42 56 72 90 "
     ]
    }
   ],
   "source": [
    "#isPronicNumber() will determine whether a given number is a pronic number or not    \n",
    "def isPronicNumber(num):    \n",
    "    flag = False;          \n",
    "    for p in range(1, num+1):      \n",
    "        if((p*(p+1)) == num):    \n",
    "            flag = True;    \n",
    "            break;    \n",
    "    return flag;     \n",
    "print(\"Pronic numbers between 1 and 100: \");    \n",
    "for i in range(1, 101):    \n",
    "    if(isPronicNumber(i)):    \n",
    "        print(i,end=\" \"),    "
   ]
  }
 ],
 "metadata": {
  "kernelspec": {
   "display_name": "Python 3",
   "language": "python",
   "name": "python3"
  },
  "language_info": {
   "codemirror_mode": {
    "name": "ipython",
    "version": 3
   },
   "file_extension": ".py",
   "mimetype": "text/x-python",
   "name": "python",
   "nbconvert_exporter": "python",
   "pygments_lexer": "ipython3",
   "version": "3.6.9"
  }
 },
 "nbformat": 4,
 "nbformat_minor": 4
}
