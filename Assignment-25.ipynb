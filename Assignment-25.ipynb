{
 "cells": [
  {
   "cell_type": "code",
   "execution_count": 7,
   "id": "2ce8d9f8",
   "metadata": {},
   "outputs": [],
   "source": [
    "def equal(a,b,c):\n",
    "    lst = []\n",
    "    lst.append(a)\n",
    "    lst.append(b)\n",
    "    lst.append(c)\n",
    "    print(lst)\n",
    "    st = set(lst)\n",
    "    if len(st) == 3:\n",
    "        return 0\n",
    "    if len(st) == 2:\n",
    "        return 2\n",
    "    if len(st) == 1:\n",
    "        return 3"
   ]
  },
  {
   "cell_type": "code",
   "execution_count": 8,
   "id": "b918f2cc",
   "metadata": {},
   "outputs": [
    {
     "name": "stdout",
     "output_type": "stream",
     "text": [
      "[3, 4, 3]\n"
     ]
    },
    {
     "data": {
      "text/plain": [
       "2"
      ]
     },
     "execution_count": 8,
     "metadata": {},
     "output_type": "execute_result"
    }
   ],
   "source": [
    "equal(3, 4, 3)"
   ]
  },
  {
   "cell_type": "code",
   "execution_count": 9,
   "id": "820d1872",
   "metadata": {},
   "outputs": [
    {
     "name": "stdout",
     "output_type": "stream",
     "text": [
      "[1, 1, 1]\n"
     ]
    },
    {
     "data": {
      "text/plain": [
       "3"
      ]
     },
     "execution_count": 9,
     "metadata": {},
     "output_type": "execute_result"
    }
   ],
   "source": [
    "equal(1, 1, 1)"
   ]
  },
  {
   "cell_type": "code",
   "execution_count": 10,
   "id": "f35602b2",
   "metadata": {},
   "outputs": [
    {
     "name": "stdout",
     "output_type": "stream",
     "text": [
      "[3, 4, 1]\n"
     ]
    },
    {
     "data": {
      "text/plain": [
       "0"
      ]
     },
     "execution_count": 10,
     "metadata": {},
     "output_type": "execute_result"
    }
   ],
   "source": [
    "equal(3, 4, 1)"
   ]
  },
  {
   "cell_type": "code",
   "execution_count": 39,
   "id": "963ca240",
   "metadata": {},
   "outputs": [],
   "source": [
    "def dict_to_list(a):\n",
    "    lst = []\n",
    "    if type(a) == dict:\n",
    "        for k,v in a.items():\n",
    "            t = (k,v)\n",
    "            lst.append(t)\n",
    "            lst.sort()\n",
    "    else:\n",
    "        print(\"sorry i didn't received dictionary\")\n",
    "    return lst\n",
    "            "
   ]
  },
  {
   "cell_type": "code",
   "execution_count": 40,
   "id": "c111fc13",
   "metadata": {},
   "outputs": [
    {
     "data": {
      "text/plain": [
       "[('B', 2), ('C', 3), ('D', 1)]"
      ]
     },
     "execution_count": 40,
     "metadata": {},
     "output_type": "execute_result"
    }
   ],
   "source": [
    "dict_to_list({\n",
    "'D': 1,\n",
    "'B': 2,\n",
    "'C': 3\n",
    "})"
   ]
  },
  {
   "cell_type": "code",
   "execution_count": 41,
   "id": "3c0aa838",
   "metadata": {},
   "outputs": [
    {
     "data": {
      "text/plain": [
       "[('Dislikes', 3), ('Followers', 10), ('Likes', 2)]"
      ]
     },
     "execution_count": 41,
     "metadata": {},
     "output_type": "execute_result"
    }
   ],
   "source": [
    "dict_to_list({\n",
    "'Likes': 2,\n",
    "'Dislikes': 3,\n",
    "'Followers': 10\n",
    "})"
   ]
  },
  {
   "cell_type": "code",
   "execution_count": 8,
   "id": "cdb03389",
   "metadata": {},
   "outputs": [],
   "source": [
    "def mapping(a):\n",
    "    dc = {}\n",
    "    if type(a) == list:\n",
    "        for i in a:\n",
    "            dc[i] = i.upper()\n",
    "    return dc"
   ]
  },
  {
   "cell_type": "code",
   "execution_count": 9,
   "id": "0a90db58",
   "metadata": {},
   "outputs": [
    {
     "data": {
      "text/plain": [
       "{'a': 'A', 'b': 'B', 'c': 'C'}"
      ]
     },
     "execution_count": 9,
     "metadata": {},
     "output_type": "execute_result"
    }
   ],
   "source": [
    "mapping(['a','b','c'])"
   ]
  },
  {
   "cell_type": "code",
   "execution_count": 10,
   "id": "36fe95d7",
   "metadata": {},
   "outputs": [
    {
     "data": {
      "text/plain": [
       "{'a': 'A', 'v': 'V', 'y': 'Y', 'z': 'Z'}"
      ]
     },
     "execution_count": 10,
     "metadata": {},
     "output_type": "execute_result"
    }
   ],
   "source": [
    "mapping([\"a\", \"v\", \"y\", \"z\"])"
   ]
  },
  {
   "cell_type": "code",
   "execution_count": 70,
   "id": "0348cff2",
   "metadata": {},
   "outputs": [],
   "source": [
    "def vow_replace(s, r):\n",
    "    newstr = s\n",
    "    vowels = ('a', 'e', 'i', 'o', 'u')\n",
    "    for x in s.lower():\n",
    "         if x in vowels:\n",
    "            newstr = newstr.replace(x,r)\n",
    "    return newstr\n",
    "                "
   ]
  },
  {
   "cell_type": "code",
   "execution_count": 71,
   "id": "fb24af84",
   "metadata": {},
   "outputs": [
    {
     "data": {
      "text/plain": [
       "'upplus und bununus'"
      ]
     },
     "execution_count": 71,
     "metadata": {},
     "output_type": "execute_result"
    }
   ],
   "source": [
    "vow_replace(\"apples and bananas\", \"u\") "
   ]
  },
  {
   "cell_type": "code",
   "execution_count": 75,
   "id": "c219f05f",
   "metadata": {},
   "outputs": [
    {
     "data": {
      "text/plain": [
       "'chooso cossorolo'"
      ]
     },
     "execution_count": 75,
     "metadata": {},
     "output_type": "execute_result"
    }
   ],
   "source": [
    "vow_replace(\"cheese casserole\", \"o\")"
   ]
  },
  {
   "cell_type": "code",
   "execution_count": 76,
   "id": "8186ac3b",
   "metadata": {},
   "outputs": [
    {
     "data": {
      "text/plain": [
       "'steffed jelepene peppers'"
      ]
     },
     "execution_count": 76,
     "metadata": {},
     "output_type": "execute_result"
    }
   ],
   "source": [
    "vow_replace(\"stuffed jalapeno poppers\", \"e\")"
   ]
  },
  {
   "cell_type": "code",
   "execution_count": 63,
   "id": "27863f11",
   "metadata": {},
   "outputs": [
    {
     "data": {
      "text/plain": [
       "'upplus und bununus'"
      ]
     },
     "execution_count": 63,
     "metadata": {},
     "output_type": "execute_result"
    }
   ],
   "source": [
    "anti_vowel(\"apples and bananas\")"
   ]
  },
  {
   "cell_type": "code",
   "execution_count": 97,
   "id": "c425ffbe",
   "metadata": {},
   "outputs": [],
   "source": [
    "def ascii_capitalize(s):\n",
    "    new_str = s\n",
    "    for i in s:\n",
    "        if ord(i)%2 == 0:\n",
    "            new_str = new_str.replace(i, i.upper())\n",
    "        else:\n",
    "            new_str =  new_str.replace(i, i.lower())\n",
    "    return new_str"
   ]
  },
  {
   "cell_type": "code",
   "execution_count": 98,
   "id": "2044759d",
   "metadata": {},
   "outputs": [
    {
     "data": {
      "text/plain": [
       "'To Be oR NoT To Be!'"
      ]
     },
     "execution_count": 98,
     "metadata": {},
     "output_type": "execute_result"
    }
   ],
   "source": [
    "ascii_capitalize(\"to be or not to be!\")"
   ]
  },
  {
   "cell_type": "code",
   "execution_count": 100,
   "id": "52d25826",
   "metadata": {},
   "outputs": [
    {
     "data": {
      "text/plain": [
       "'THe LiTTLe meRmaiD'"
      ]
     },
     "execution_count": 100,
     "metadata": {},
     "output_type": "execute_result"
    }
   ],
   "source": [
    "ascii_capitalize(\"THE LITTLE MERMAID\") "
   ]
  },
  {
   "cell_type": "code",
   "execution_count": 101,
   "id": "7a3211ca",
   "metadata": {},
   "outputs": [
    {
     "data": {
      "text/plain": [
       "'oH wHaT a BeauTiFuL moRNiNg.'"
      ]
     },
     "execution_count": 101,
     "metadata": {},
     "output_type": "execute_result"
    }
   ],
   "source": [
    "ascii_capitalize(\"Oh what a beautiful morning.\")"
   ]
  }
 ],
 "metadata": {
  "kernelspec": {
   "display_name": "Python 3",
   "language": "python",
   "name": "python3"
  },
  "language_info": {
   "codemirror_mode": {
    "name": "ipython",
    "version": 3
   },
   "file_extension": ".py",
   "mimetype": "text/x-python",
   "name": "python",
   "nbconvert_exporter": "python",
   "pygments_lexer": "ipython3",
   "version": "3.7.1"
  }
 },
 "nbformat": 4,
 "nbformat_minor": 5
}
