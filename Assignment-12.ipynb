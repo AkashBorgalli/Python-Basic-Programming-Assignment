{
 "cells": [
  {
   "cell_type": "code",
   "execution_count": 7,
   "id": "90d93b46",
   "metadata": {},
   "outputs": [
    {
     "name": "stdout",
     "output_type": "stream",
     "text": [
      "['Akash', 'Borgalli', 'Laxman', 'Hanuman']\n"
     ]
    }
   ],
   "source": [
    "dict = {'107':'Akash','123':'Borgalli','897':'Akash','091':'Laxman','876':'Hanuman'}\n",
    "lst =[] \n",
    "for val in dict.values(): \n",
    "  if val in lst: \n",
    "     continue \n",
    "  else:\n",
    "    lst.append(val)\n",
    "print(lst)"
   ]
  },
  {
   "cell_type": "code",
   "execution_count": 8,
   "id": "035f7ac6",
   "metadata": {},
   "outputs": [
    {
     "name": "stdout",
     "output_type": "stream",
     "text": [
      "The sum of values is 43\n"
     ]
    }
   ],
   "source": [
    "dict = {'107':2,'123':3,'897':8,'091':10,'876':20}\n",
    "sum=0\n",
    "for val in dict.values():\n",
    "    sum=sum+val\n",
    "print('The sum of values is',sum)\n"
   ]
  },
  {
   "cell_type": "code",
   "execution_count": 10,
   "id": "42c4335f",
   "metadata": {},
   "outputs": [
    {
     "name": "stdout",
     "output_type": "stream",
     "text": [
      "{'107': 2, '123': 3, '897': 8, '091': 10, '876': 20}\n"
     ]
    }
   ],
   "source": [
    "dict = {'107':2,'123':3,'897':8}\n",
    "dict2={'091':10,'876':20}\n",
    "dict.update(dict2)\n",
    "print(dict)"
   ]
  },
  {
   "cell_type": "code",
   "execution_count": 25,
   "id": "9033743f",
   "metadata": {},
   "outputs": [
    {
     "name": "stdout",
     "output_type": "stream",
     "text": [
      "{'a': 'Apple', 'b': 'Ball', 'c': 'Cat'}\n"
     ]
    }
   ],
   "source": [
    "lst= [['a', 'Apple'], ['b', 'Ball'],['c', 'Cat'] ]\n",
    "dct={}\n",
    "for key,val in lst:\n",
    "    dct[key]=val\n",
    "print(dct)"
   ]
  },
  {
   "cell_type": "code",
   "execution_count": 31,
   "id": "aa490d64",
   "metadata": {},
   "outputs": [
    {
     "name": "stdout",
     "output_type": "stream",
     "text": [
      "OrderedDict([('188', 88), ('107', 2), ('123', 3), ('897', 8), ('091', 10), ('876', 20)])\n"
     ]
    }
   ],
   "source": [
    "from collections import OrderedDict\n",
    "dict = OrderedDict({'107':2,'123':3,'897':8,'091':10,'876':20})\n",
    "dict.update({'188':88})\n",
    "dict.move_to_end('188',last=False)\n",
    "print(dict)"
   ]
  },
  {
   "cell_type": "code",
   "execution_count": 71,
   "id": "dcbb610f",
   "metadata": {},
   "outputs": [],
   "source": [
    "from collections import OrderedDict\n",
    "\n",
    "def checkOrder(input, pattern):\n",
    "# create empty OrderedDict\n",
    "# output will be like {'a': None,'b': None, 'c': None}\n",
    "    dict = OrderedDict.fromkeys(input)\n",
    "# traverse generated OrderedDict parallel with\n",
    "# pattern string to check if order of characters\n",
    "# are same or not\n",
    "    ptrlen = 0\n",
    "    for key,value in dict.items():\n",
    "        if (key == pattern[ptrlen]):\n",
    "            ptrlen = ptrlen + 1\n",
    "# check if we have traverse complete\n",
    "# pattern string\n",
    "        if (ptrlen == (len(pattern))):\n",
    "            return 'true'\n",
    "\n",
    "# if we come out from for loop that means\n",
    "# order was mismatched\n",
    "    return 'false'"
   ]
  },
  {
   "cell_type": "code",
   "execution_count": 73,
   "id": "02b39e1b",
   "metadata": {},
   "outputs": [
    {
     "name": "stdout",
     "output_type": "stream",
     "text": [
      "false\n"
     ]
    }
   ],
   "source": [
    "input = 'engineers rock'\n",
    "pattern = 'gsr'\n",
    "print (checkOrder(input,pattern))"
   ]
  },
  {
   "cell_type": "code",
   "execution_count": 76,
   "id": "f02976b8",
   "metadata": {},
   "outputs": [
    {
     "name": "stdout",
     "output_type": "stream",
     "text": [
      "a b c "
     ]
    }
   ],
   "source": [
    "dit={'a': 'Apple', 'c': 'Cat','b': 'Ball'}\n",
    "for i in sorted(dit.keys()):\n",
    "    print(i,end=' ')"
   ]
  }
 ],
 "metadata": {
  "kernelspec": {
   "display_name": "Python 3",
   "language": "python",
   "name": "python3"
  },
  "language_info": {
   "codemirror_mode": {
    "name": "ipython",
    "version": 3
   },
   "file_extension": ".py",
   "mimetype": "text/x-python",
   "name": "python",
   "nbconvert_exporter": "python",
   "pygments_lexer": "ipython3",
   "version": "3.6.9"
  }
 },
 "nbformat": 4,
 "nbformat_minor": 5
}
