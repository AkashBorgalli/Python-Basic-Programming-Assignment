{
 "cells": [
  {
   "cell_type": "code",
   "execution_count": 1,
   "id": "651d3b59",
   "metadata": {},
   "outputs": [],
   "source": [
    "def filter_list(lst):\n",
    "    nwlst = []\n",
    "    for i in lst:\n",
    "        if type(i) == int:\n",
    "            nwlst.append(i)\n",
    "    return nwlst"
   ]
  },
  {
   "cell_type": "code",
   "execution_count": 2,
   "id": "d4892132",
   "metadata": {},
   "outputs": [
    {
     "name": "stdout",
     "output_type": "stream",
     "text": [
      "[1, 2, 3, 4]\n",
      "[0, 1729]\n",
      "[]\n"
     ]
    }
   ],
   "source": [
    "print(filter_list([1, 2, 3, \"a\", \"b\", 4]))\n",
    "print(filter_list([\"A\", 0, \"Edabit\", 1729, \"Python\", \"1729\"]))\n",
    "print(filter_list([\"Nothing\", \"here\"]))"
   ]
  },
  {
   "cell_type": "code",
   "execution_count": 19,
   "id": "2dcc3299",
   "metadata": {},
   "outputs": [],
   "source": [
    "def add_indexes(lst):\n",
    "    ilst = []\n",
    "    for i in lst:\n",
    "        m=lst.index(i)\n",
    "        ilst.append(m+i)\n",
    "    return ilst"
   ]
  },
  {
   "cell_type": "code",
   "execution_count": 21,
   "id": "79a91cfc",
   "metadata": {},
   "outputs": [
    {
     "name": "stdout",
     "output_type": "stream",
     "text": [
      "[0, 0, 0, 0, 0]\n",
      "[1, 3, 5, 7, 9]\n",
      "[5, 5, 5, 5, 5]\n"
     ]
    }
   ],
   "source": [
    "print(add_indexes([0, 0, 0, 0, 0]) )\n",
    "print(add_indexes([1, 2, 3, 4, 5]) )\n",
    "print(add_indexes([5, 4, 3, 2, 1]))"
   ]
  },
  {
   "cell_type": "code",
   "execution_count": 26,
   "id": "bcc272f2",
   "metadata": {},
   "outputs": [],
   "source": [
    "import math\n",
    "def cone_volume(r,h):\n",
    "    return round(math.pi*(r**2)*h/3,2)"
   ]
  },
  {
   "cell_type": "code",
   "execution_count": 29,
   "id": "6da516d0",
   "metadata": {},
   "outputs": [
    {
     "name": "stdout",
     "output_type": "stream",
     "text": [
      "12.57\n",
      "565.49\n",
      "0.0\n"
     ]
    }
   ],
   "source": [
    "print(cone_volume(2,3))\n",
    "print(cone_volume(6, 15))\n",
    "print(cone_volume(0, 18))"
   ]
  },
  {
   "cell_type": "code",
   "execution_count": 54,
   "id": "ce736cdc",
   "metadata": {},
   "outputs": [],
   "source": [
    "def triangle(n):\n",
    "    sum=0\n",
    "    for i in range(1,n+1):\n",
    "        sum = sum+i\n",
    "    return sum "
   ]
  },
  {
   "cell_type": "code",
   "execution_count": 62,
   "id": "98f0a21a",
   "metadata": {},
   "outputs": [
    {
     "name": "stdout",
     "output_type": "stream",
     "text": [
      "1\n",
      "21\n",
      "23220\n"
     ]
    }
   ],
   "source": [
    "print(triangle(1))\n",
    "print(triangle(6))\n",
    "print(triangle(215))"
   ]
  },
  {
   "cell_type": "code",
   "execution_count": 44,
   "id": "8046502f",
   "metadata": {},
   "outputs": [],
   "source": [
    "def missing_num(lst):\n",
    "    for i in range(1,10+1):\n",
    "        if i not in lst:\n",
    "            return i"
   ]
  },
  {
   "cell_type": "code",
   "execution_count": 46,
   "id": "16bdeb4d",
   "metadata": {},
   "outputs": [
    {
     "name": "stdout",
     "output_type": "stream",
     "text": [
      "5\n",
      "10\n",
      "7\n"
     ]
    }
   ],
   "source": [
    "print(missing_num([1, 2, 3, 4, 6, 7, 8, 9, 10]))\n",
    "print(missing_num([7, 2, 3, 6, 5, 9, 1, 4, 8]))\n",
    "print(missing_num([10, 5, 1, 2, 4, 6, 8, 3, 9]))"
   ]
  }
 ],
 "metadata": {
  "kernelspec": {
   "display_name": "Python 3",
   "language": "python",
   "name": "python3"
  },
  "language_info": {
   "codemirror_mode": {
    "name": "ipython",
    "version": 3
   },
   "file_extension": ".py",
   "mimetype": "text/x-python",
   "name": "python",
   "nbconvert_exporter": "python",
   "pygments_lexer": "ipython3",
   "version": "3.6.9"
  }
 },
 "nbformat": 4,
 "nbformat_minor": 5
}
