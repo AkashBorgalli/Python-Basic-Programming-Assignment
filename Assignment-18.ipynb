{
 "cells": [
  {
   "cell_type": "code",
   "execution_count": 2,
   "id": "283418d7",
   "metadata": {},
   "outputs": [],
   "source": [
    "def filter_list(lst):\n",
    "    int_lst=[]\n",
    "    for i in lst:\n",
    "        if type(i) == int:\n",
    "            int_lst.append(i)\n",
    "    return int_lst"
   ]
  },
  {
   "cell_type": "code",
   "execution_count": 7,
   "id": "89458259",
   "metadata": {},
   "outputs": [
    {
     "name": "stdout",
     "output_type": "stream",
     "text": [
      "[1, 2]\n",
      "[1, 0, 15]\n",
      "[1, 2, 123]\n"
     ]
    }
   ],
   "source": [
    "print(filter_list([1, 2, \"a\", \"b\"]))\n",
    "print(filter_list([1, \"a\", \"b\", 0, 15]) )\n",
    "print(filter_list([1, 2, \"aasf\", \"1\", \"123\", 123]) )"
   ]
  },
  {
   "cell_type": "code",
   "execution_count": 12,
   "id": "b068b840",
   "metadata": {},
   "outputs": [],
   "source": [
    "def reverse(s):\n",
    "    rev= s[::-1]\n",
    "    swpcse= rev.swapcase()\n",
    "    return swpcse"
   ]
  },
  {
   "cell_type": "code",
   "execution_count": 14,
   "id": "e0e08358",
   "metadata": {},
   "outputs": [
    {
     "name": "stdout",
     "output_type": "stream",
     "text": [
      "DLROw OLLEh\n",
      "eSrEvEr\n",
      "RADAr\n"
     ]
    }
   ],
   "source": [
    "print(reverse(\"Hello World\"))\n",
    "print(reverse(\"ReVeRsE\"))\n",
    "print(reverse(\"Radar\"))"
   ]
  },
  {
   "cell_type": "code",
   "execution_count": 20,
   "id": "6bb76d12",
   "metadata": {},
   "outputs": [
    {
     "name": "stdout",
     "output_type": "stream",
     "text": [
      "1\n",
      "[2, 3, 4, 5]\n",
      "6\n"
     ]
    }
   ],
   "source": [
    "lst = [1, 2, 3, 4, 5, 6]\n",
    "first = lst[0]\n",
    "middle = lst[1:-1]\n",
    "last = lst[-1]\n",
    "print(first)\n",
    "print(middle)\n",
    "print(last)"
   ]
  }
 ],
 "metadata": {
  "kernelspec": {
   "display_name": "Python 3",
   "language": "python",
   "name": "python3"
  },
  "language_info": {
   "codemirror_mode": {
    "name": "ipython",
    "version": 3
   },
   "file_extension": ".py",
   "mimetype": "text/x-python",
   "name": "python",
   "nbconvert_exporter": "python",
   "pygments_lexer": "ipython3",
   "version": "3.6.9"
  }
 },
 "nbformat": 4,
 "nbformat_minor": 5
}
