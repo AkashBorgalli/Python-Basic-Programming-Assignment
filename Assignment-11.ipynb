{
 "cells": [
  {
   "cell_type": "code",
   "execution_count": 6,
   "id": "d4632413",
   "metadata": {},
   "outputs": [
    {
     "name": "stdout",
     "output_type": "stream",
     "text": [
      "Enter any Sentence: If you are brave enough you can see him when he is back\n",
      "Enter any number to print words which are greater than given length that you give: 4\n",
      "brave enough when back "
     ]
    }
   ],
   "source": [
    "st = input(\"Enter any Sentence: \")\n",
    "n=int(input(\"Enter any number to print words which are greater than given length that you give: \"))\n",
    "newstring=st.split()\n",
    "for i in newstring:\n",
    "    if len(i) >= n:\n",
    "        print(i,end=' ')\n",
    "    "
   ]
  },
  {
   "cell_type": "code",
   "execution_count": 8,
   "id": "596fb655",
   "metadata": {},
   "outputs": [
    {
     "name": "stdout",
     "output_type": "stream",
     "text": [
      "Updated String:  Akash\n"
     ]
    }
   ],
   "source": [
    "st=\"AkashB\"\n",
    "rech=\"B\"\n",
    "for i in st:\n",
    "    if i == rech:\n",
    "        newString=st.replace(i,'')\n",
    "print('Updated String: ',newString)\n",
    "    "
   ]
  },
  {
   "cell_type": "code",
   "execution_count": 9,
   "id": "ff1d11aa",
   "metadata": {},
   "outputs": [
    {
     "name": "stdout",
     "output_type": "stream",
     "text": [
      "Akash-is-a-good-Boy\n"
     ]
    }
   ],
   "source": [
    "st=\"Akash is a good Boy\"\n",
    "splitstng=st.split()\n",
    "for i in splitstng:\n",
    "    j=\"-\".join(splitstng)\n",
    "print(j)\n",
    "    "
   ]
  },
  {
   "cell_type": "code",
   "execution_count": 11,
   "id": "c3fd91c5",
   "metadata": {},
   "outputs": [
    {
     "name": "stdout",
     "output_type": "stream",
     "text": [
      "The given String is a binary string.\n"
     ]
    }
   ],
   "source": [
    "strng = '0110101010111'\n",
    "b = {'0','1'}\n",
    "t = set(strng)\n",
    "\n",
    "if b == t or t == {'0'} or t == {'1'}:\n",
    "   print(\"The given String is a binary string.\")\n",
    "else:\n",
    "   print(\"The given String is not a binary string.\")"
   ]
  },
  {
   "cell_type": "code",
   "execution_count": 14,
   "id": "8116b587",
   "metadata": {},
   "outputs": [
    {
     "name": "stdout",
     "output_type": "stream",
     "text": [
      "not common in this string "
     ]
    }
   ],
   "source": [
    "str1=\"Akash is a good boy\"\n",
    "str2=\"Akash is not a good boy is common in this string\"\n",
    "x = str1.split()\n",
    "y = str2.split()\n",
    "for i in y:\n",
    "    if i not in x:\n",
    "        print(i,end=' ')"
   ]
  },
  {
   "cell_type": "code",
   "execution_count": 36,
   "id": "9d9336da",
   "metadata": {},
   "outputs": [
    {
     "name": "stdout",
     "output_type": "stream",
     "text": [
      "The Repeated Characters are:  a s b\n"
     ]
    }
   ],
   "source": [
    "str1 = 'Aakashbsssb'\n",
    "st=set()\n",
    "for i in str1:\n",
    "    count=str1.count(i)\n",
    "    if count >=2:\n",
    "        st.add(i)\n",
    "## To print values of set use *\n",
    "print('The Repeated Characters are: ',*st)"
   ]
  },
  {
   "cell_type": "code",
   "execution_count": 33,
   "id": "3876c51f",
   "metadata": {},
   "outputs": [
    {
     "name": "stdout",
     "output_type": "stream",
     "text": [
      "a s d f w\n"
     ]
    }
   ],
   "source": [
    "## Same above code in using list\n",
    "## initializing string\n",
    "string = \"aasdfffrewsdcaw\"\n",
    "## initializing a list to append all the duplicate characters\n",
    "duplicates = []\n",
    "for char in string:\n",
    "   ## checking whether the character have a duplicate or not\n",
    "   ## str.count(char) returns the frequency of a char in the str\n",
    "   if string.count(char) > 1:\n",
    "     if char not in duplicates:\n",
    "        duplicates.append(char)\n",
    "print(*duplicates)"
   ]
  },
  {
   "cell_type": "code",
   "execution_count": 44,
   "id": "c74c04c0",
   "metadata": {},
   "outputs": [
    {
     "name": "stdout",
     "output_type": "stream",
     "text": [
      "It contains special characters\n",
      "Doesnot contains any special characters\n"
     ]
    }
   ],
   "source": [
    "import string\n",
    "# special characters\n",
    "special_chars = string.punctuation\n",
    "# initializing a string\n",
    "str1 = \"@k@$#Borg@lli!\"\n",
    "str2 = \"AkashBorgalli\"\n",
    "# checking the special chars in the string_1\n",
    "boolvalue = list(map(lambda char: char in special_chars, str1))\n",
    "print(\"It contains special characters\") if any(boolvalue) else print(\"Doesnot contains any special characters\")\n",
    "# checking the special chars in the string_2\n",
    "boolvalue = list(map(lambda char: char in special_chars, str2))\n",
    "print(\"It contains special characters\") if any(boolvalue) else print(\"Doesnot contains any special characters\")"
   ]
  }
 ],
 "metadata": {
  "kernelspec": {
   "display_name": "Python 3",
   "language": "python",
   "name": "python3"
  },
  "language_info": {
   "codemirror_mode": {
    "name": "ipython",
    "version": 3
   },
   "file_extension": ".py",
   "mimetype": "text/x-python",
   "name": "python",
   "nbconvert_exporter": "python",
   "pygments_lexer": "ipython3",
   "version": "3.6.9"
  }
 },
 "nbformat": 4,
 "nbformat_minor": 5
}
