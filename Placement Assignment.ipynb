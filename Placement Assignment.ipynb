{
 "cells": [
  {
   "cell_type": "markdown",
   "id": "8de0d99e",
   "metadata": {},
   "source": [
    "## Assignment 1"
   ]
  },
  {
   "cell_type": "code",
   "execution_count": 31,
   "id": "a0b8bc16",
   "metadata": {},
   "outputs": [],
   "source": [
    "def readfile(filepath, replacestring):\n",
    "        with open(filepath,'r+') as f:\n",
    "            contents = f.read()\n",
    "            updatedcontent = contents.replace(\"placement\",replacestring)\n",
    "        return updatedcontent"
   ]
  },
  {
   "cell_type": "code",
   "execution_count": 32,
   "id": "46f81799",
   "metadata": {},
   "outputs": [
    {
     "data": {
      "text/plain": [
       "'This is a screening assignment'"
      ]
     },
     "execution_count": 32,
     "metadata": {},
     "output_type": "execute_result"
    }
   ],
   "source": [
    "readfile('D:/Python Revision/example.txt','screening')"
   ]
  },
  {
   "cell_type": "markdown",
   "id": "730537f8",
   "metadata": {},
   "source": [
    "## Assignment 2: Use of Abstract Class"
   ]
  },
  {
   "cell_type": "code",
   "execution_count": 33,
   "id": "446a8d31",
   "metadata": {},
   "outputs": [
    {
     "name": "stdout",
     "output_type": "stream",
     "text": [
      "I have 2 tyres\n",
      "I have 4 tyres\n"
     ]
    }
   ],
   "source": [
    "# Python program showing\n",
    "# abstract base class work\n",
    "\n",
    "from abc import ABC, abstractmethod\n",
    "\n",
    "class Vehicle(ABC):\n",
    "\n",
    "    @abstractmethod\n",
    "    def nooftyres(self):\n",
    "        pass\n",
    "\n",
    "class BiCycle(Vehicle):\n",
    "\n",
    "    # overriding abstract method\n",
    "    def nooftyres(self):\n",
    "        print(\"I have 2 tyres\")\n",
    "\n",
    "class Car(Vehicle):\n",
    "\n",
    "    # overriding abstract method\n",
    "    def nooftyres(self):\n",
    "        print(\"I have 4 tyres\")\n",
    "\n",
    "\n",
    "# Driver code\n",
    "B = BiCycle()\n",
    "B.nooftyres()\n",
    "\n",
    "C = Car()\n",
    "C.nooftyres()"
   ]
  },
  {
   "cell_type": "markdown",
   "id": "0890df32",
   "metadata": {},
   "source": [
    "## Multiple Inheritance using decorator"
   ]
  },
  {
   "cell_type": "code",
   "execution_count": 71,
   "id": "5a96f9b2",
   "metadata": {},
   "outputs": [],
   "source": [
    "class Person: \n",
    "    def __init__(self,name,age):\n",
    "        self.name=name\n",
    "        self.age=age\n",
    "\n",
    "    @property\n",
    "    def getname(self):\n",
    "        return self.name\n",
    "    \n",
    "    @getname.setter\n",
    "    def setname(self,name):\n",
    "        self.name = name"
   ]
  },
  {
   "cell_type": "code",
   "execution_count": 61,
   "id": "4479c504",
   "metadata": {},
   "outputs": [],
   "source": [
    "class Student:\n",
    "    def __init__(self,roll,per):\n",
    "        self.roll=roll\n",
    "        self.per=per\n",
    "    def getroll(self):\n",
    "        return self.roll\n",
    "    def getper(self):\n",
    "        return self.per"
   ]
  },
  {
   "cell_type": "code",
   "execution_count": 64,
   "id": "fbee8fb0",
   "metadata": {},
   "outputs": [],
   "source": [
    "class ScienceStudent(Person,Student):\n",
    "    def __init__(self,name,age,roll,per,stream):\n",
    "        Person.__init__(self,name,age)\n",
    "        Student.__init__(self,roll,per)\n",
    "        self.stream=stream\n",
    "    def getstream(self):\n",
    "        return self.stream"
   ]
  },
  {
   "cell_type": "code",
   "execution_count": 65,
   "id": "6c9c0032",
   "metadata": {},
   "outputs": [],
   "source": [
    "ms=ScienceStudent(\"Suresh\",19,203,89.4,\"maths\",)"
   ]
  },
  {
   "cell_type": "code",
   "execution_count": 67,
   "id": "eae0e715",
   "metadata": {},
   "outputs": [
    {
     "data": {
      "text/plain": [
       "'Suresh'"
      ]
     },
     "execution_count": 67,
     "metadata": {},
     "output_type": "execute_result"
    }
   ],
   "source": [
    "## use of decorator \n",
    "ms.name"
   ]
  },
  {
   "cell_type": "code",
   "execution_count": 73,
   "id": "99fddb6f",
   "metadata": {},
   "outputs": [],
   "source": [
    "## setter function\n",
    "ms.name = 'Kamlesh'"
   ]
  },
  {
   "cell_type": "code",
   "execution_count": 74,
   "id": "eb1681e2",
   "metadata": {},
   "outputs": [
    {
     "data": {
      "text/plain": [
       "'Kamlesh'"
      ]
     },
     "execution_count": 74,
     "metadata": {},
     "output_type": "execute_result"
    }
   ],
   "source": [
    "ms.name"
   ]
  }
 ],
 "metadata": {
  "kernelspec": {
   "display_name": "Python 3",
   "language": "python",
   "name": "python3"
  },
  "language_info": {
   "codemirror_mode": {
    "name": "ipython",
    "version": 3
   },
   "file_extension": ".py",
   "mimetype": "text/x-python",
   "name": "python",
   "nbconvert_exporter": "python",
   "pygments_lexer": "ipython3",
   "version": "3.7.1"
  }
 },
 "nbformat": 4,
 "nbformat_minor": 5
}
