{
 "cells": [
  {
   "cell_type": "code",
   "execution_count": 22,
   "id": "038cc6d7",
   "metadata": {},
   "outputs": [
    {
     "name": "stdout",
     "output_type": "stream",
     "text": [
      "Enter numbers: 100,150,180\n",
      "The output of the given formula is  18 22 24\n"
     ]
    }
   ],
   "source": [
    "import math\n",
    "C = 50\n",
    "H = 30\n",
    "D = list(input(\"Enter numbers: \").split(\",\"))\n",
    "emplst=[]\n",
    "result=[]\n",
    "for value in D:\n",
    "    g=int(value)\n",
    "    emplst.append(g)\n",
    "for res in emplst:\n",
    "    op = math.sqrt((2*C*res)/H)\n",
    "    result.append(math.floor(op))\n",
    "print(\"The output of the given formula is \",*result)"
   ]
  },
  {
   "cell_type": "code",
   "execution_count": 31,
   "id": "98689957",
   "metadata": {},
   "outputs": [
    {
     "name": "stdout",
     "output_type": "stream",
     "text": [
      "Enter number of rows: 3\n",
      "Enter number of columns: 5\n",
      "[[0, 0, 0, 0, 0], [0, 1, 2, 3, 4], [0, 2, 4, 6, 8]]\n"
     ]
    }
   ],
   "source": [
    "i = int(input(\"Enter number of rows: \"))\n",
    "j = int(input(\"Enter number of columns: \"))\n",
    "matrix = [[0 for col in range(j)] for row in range(i)]\n",
    "for row in range(i):\n",
    "    for col in range(j):\n",
    "        matrix[row][col]=row*col\n",
    "print(matrix)"
   ]
  },
  {
   "cell_type": "code",
   "execution_count": 41,
   "id": "d57df32d",
   "metadata": {},
   "outputs": [
    {
     "name": "stdout",
     "output_type": "stream",
     "text": [
      "Enter words: without,hello,bag,world\n",
      "bag, hello, without, world, "
     ]
    }
   ],
   "source": [
    "str_list = list(input(\"Enter words: \").split(\",\"))\n",
    "str_list.sort()\n",
    "for i in str_list:\n",
    "    print(i+\",\",end=\" \")"
   ]
  },
  {
   "cell_type": "code",
   "execution_count": 42,
   "id": "251110aa",
   "metadata": {},
   "outputs": [
    {
     "name": "stdout",
     "output_type": "stream",
     "text": [
      "Enter words: hello world and practice makes perfect and hello world again\n",
      "again and hello makes perfect practice world\n"
     ]
    }
   ],
   "source": [
    "str_list = list(input(\"Enter words: \").split(\" \"))\n",
    "st = set(str_list)\n",
    "res=list(st)\n",
    "res.sort()\n",
    "print(*res)"
   ]
  },
  {
   "cell_type": "code",
   "execution_count": 66,
   "id": "da0e43cb",
   "metadata": {},
   "outputs": [
    {
     "name": "stdout",
     "output_type": "stream",
     "text": [
      "Input a string: hello world! 123\n",
      "LETTERS:  10\n",
      "DIGITS:  3\n"
     ]
    }
   ],
   "source": [
    "import re\n",
    "str = input(\"Input a string: \")\n",
    "res=re.findall(\"[a-z0-9]\",str)\n",
    "letters=[]\n",
    "digits=[]\n",
    "for val in res:\n",
    "    if val.isalpha():\n",
    "        letters.append(val)\n",
    "    else: \n",
    "        digits.append(val)\n",
    "print(\"LETTERS: \",len(letters))\n",
    "print(\"DIGITS: \",len(digits))    "
   ]
  },
  {
   "cell_type": "code",
   "execution_count": 71,
   "id": "5adb5b42",
   "metadata": {},
   "outputs": [
    {
     "name": "stdout",
     "output_type": "stream",
     "text": [
      "Enter Password: ABd1234@1,a F1#,2w3E*,2We3345\n",
      "The accepted password is  ABd1234@1\n"
     ]
    }
   ],
   "source": [
    "passwords = input(\"Enter Password: \").split(\",\")\n",
    "accepted_passwords = []\n",
    "for i in passwords: \n",
    "    if len(i) < 6 or len(i) > 12:\n",
    "        continue\n",
    "\n",
    "    elif not re.search(\"([a-z])+\", i):\n",
    "        continue\n",
    "\n",
    "    elif not re.search(\"([A-Z])+\", i):\n",
    "        continue\n",
    "\n",
    "    elif not re.search(\"([0-9])+\", i):\n",
    "        continue\n",
    "\n",
    "    elif not re.search(\"([!@$%^&])+\", i):\n",
    "        continue\n",
    "\n",
    "    else:\n",
    "        accepted_passwords.append(i)\n",
    "print(\"The accepted password is \",*accepted_passwords)"
   ]
  }
 ],
 "metadata": {
  "kernelspec": {
   "display_name": "Python 3",
   "language": "python",
   "name": "python3"
  },
  "language_info": {
   "codemirror_mode": {
    "name": "ipython",
    "version": 3
   },
   "file_extension": ".py",
   "mimetype": "text/x-python",
   "name": "python",
   "nbconvert_exporter": "python",
   "pygments_lexer": "ipython3",
   "version": "3.6.9"
  }
 },
 "nbformat": 4,
 "nbformat_minor": 5
}
