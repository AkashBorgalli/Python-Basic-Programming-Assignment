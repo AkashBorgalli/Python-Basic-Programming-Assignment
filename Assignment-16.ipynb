{
 "cells": [
  {
   "cell_type": "code",
   "execution_count": 11,
   "id": "779876d4",
   "metadata": {},
   "outputs": [],
   "source": [
    "def stutter(st):\n",
    "    print(st[0:2]+\"...\",st[0:2]+\"...\",st+\"?\")"
   ]
  },
  {
   "cell_type": "code",
   "execution_count": 12,
   "id": "1f7aac2a",
   "metadata": {},
   "outputs": [
    {
     "name": "stdout",
     "output_type": "stream",
     "text": [
      "in... in... incredible?\n",
      "en... en... enthusiastic?\n",
      "ou... ou... outstanding?\n"
     ]
    }
   ],
   "source": [
    "stutter(\"incredible\")\n",
    "stutter(\"enthusiastic\")\n",
    "stutter(\"outstanding\")"
   ]
  },
  {
   "cell_type": "code",
   "execution_count": 15,
   "id": "015427f0",
   "metadata": {},
   "outputs": [],
   "source": [
    "import math\n",
    "def radians_to_degrees(rad):\n",
    "    return math.degrees(rad)"
   ]
  },
  {
   "cell_type": "code",
   "execution_count": 20,
   "id": "29279f83",
   "metadata": {},
   "outputs": [
    {
     "name": "stdout",
     "output_type": "stream",
     "text": [
      "57.29577951308232\n",
      "1145.9155902616465\n",
      "2864.7889756541163\n"
     ]
    }
   ],
   "source": [
    "print(radians_to_degrees(1))\n",
    "print(radians_to_degrees(20))\n",
    "print(radians_to_degrees(50))"
   ]
  },
  {
   "cell_type": "code",
   "execution_count": 28,
   "id": "3f95cc14",
   "metadata": {},
   "outputs": [],
   "source": [
    "def is_curson(num):\n",
    "    for i in range(0,2):\n",
    "        res=2**num+1\n",
    "        mul=2*num+1\n",
    "        if(res%mul==0):\n",
    "            return True\n",
    "        else:\n",
    "            return False"
   ]
  },
  {
   "cell_type": "code",
   "execution_count": 31,
   "id": "1b09b967",
   "metadata": {},
   "outputs": [
    {
     "name": "stdout",
     "output_type": "stream",
     "text": [
      "True\n",
      "False\n",
      "True\n"
     ]
    }
   ],
   "source": [
    "print(is_curson(5))\n",
    "print(is_curson(10))\n",
    "print(is_curson(14))"
   ]
  },
  {
   "cell_type": "code",
   "execution_count": 66,
   "id": "fbdd7bf9",
   "metadata": {},
   "outputs": [],
   "source": [
    "def area_of_hexagon(side):\n",
    "    return ((3 * math.sqrt(3)*(side * side)) / 2)"
   ]
  },
  {
   "cell_type": "code",
   "execution_count": 51,
   "id": "85d035cd",
   "metadata": {},
   "outputs": [
    {
     "name": "stdout",
     "output_type": "stream",
     "text": [
      "2.6\n",
      "10.39\n",
      "23.38\n"
     ]
    }
   ],
   "source": [
    "print(round(area_of_hexagon(1),2))\n",
    "print(round(area_of_hexagon(2),2))\n",
    "print(round(area_of_hexagon(3),2))"
   ]
  },
  {
   "cell_type": "code",
   "execution_count": 64,
   "id": "e0e1ea1c",
   "metadata": {},
   "outputs": [],
   "source": [
    "def binary(num):\n",
    "    res = bin(num)\n",
    "    return res[2:]"
   ]
  },
  {
   "cell_type": "code",
   "execution_count": 65,
   "id": "2bdb0057",
   "metadata": {},
   "outputs": [
    {
     "name": "stdout",
     "output_type": "stream",
     "text": [
      "1\n",
      "101\n",
      "1010\n"
     ]
    }
   ],
   "source": [
    "print(binary(1))\n",
    "print(binary(5))\n",
    "print(binary(10))"
   ]
  }
 ],
 "metadata": {
  "kernelspec": {
   "display_name": "Python 3",
   "language": "python",
   "name": "python3"
  },
  "language_info": {
   "codemirror_mode": {
    "name": "ipython",
    "version": 3
   },
   "file_extension": ".py",
   "mimetype": "text/x-python",
   "name": "python",
   "nbconvert_exporter": "python",
   "pygments_lexer": "ipython3",
   "version": "3.6.9"
  }
 },
 "nbformat": 4,
 "nbformat_minor": 5
}
