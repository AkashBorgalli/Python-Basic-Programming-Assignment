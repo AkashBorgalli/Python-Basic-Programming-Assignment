{
 "cells": [
  {
   "cell_type": "code",
   "execution_count": 1,
   "id": "0b0eb982",
   "metadata": {},
   "outputs": [],
   "source": [
    "def even_sum(a,b,c):\n",
    "    add=0\n",
    "    for i in range(a,b+1):\n",
    "        if i%c==0:\n",
    "            add+=i\n",
    "    else:\n",
    "        if add == 0:\n",
    "            print(\"No number between {} and {} can be evenly divided by {}\".format(a,b,c))\n",
    "    print(add)"
   ]
  },
  {
   "cell_type": "code",
   "execution_count": 30,
   "id": "3ef90f25",
   "metadata": {},
   "outputs": [
    {
     "name": "stdout",
     "output_type": "stream",
     "text": [
      "No number between 1 and 10 can be evenly divided by 20\n",
      "0\n"
     ]
    }
   ],
   "source": [
    "even_sum(1,10,20)"
   ]
  },
  {
   "cell_type": "code",
   "execution_count": 28,
   "id": "aefd412f",
   "metadata": {},
   "outputs": [
    {
     "name": "stdout",
     "output_type": "stream",
     "text": [
      "30\n"
     ]
    }
   ],
   "source": [
    "even_sum(1,10,2)"
   ]
  },
  {
   "cell_type": "code",
   "execution_count": 29,
   "id": "0c164e55",
   "metadata": {},
   "outputs": [
    {
     "name": "stdout",
     "output_type": "stream",
     "text": [
      "18\n"
     ]
    }
   ],
   "source": [
    "even_sum(1,10,3)"
   ]
  },
  {
   "cell_type": "code",
   "execution_count": 3,
   "id": "216180e4",
   "metadata": {},
   "outputs": [],
   "source": [
    "def correct_signs(deg): \n",
    "    if all(i.isnumeric() or i in \"< >.\" for i in deg):\n",
    "        return eval(deg)"
   ]
  },
  {
   "cell_type": "code",
   "execution_count": 4,
   "id": "c02a21b9",
   "metadata": {},
   "outputs": [
    {
     "name": "stdout",
     "output_type": "stream",
     "text": [
      "True\n",
      "False\n",
      "True\n"
     ]
    }
   ],
   "source": [
    "print(correct_signs(\"3 < 7 < 11\"))\n",
    "print(correct_signs(\"13 > 44 > 33 > 1\"))\n",
    "print(correct_signs(\"1 < 2 < 6 < 9 > 3\"))"
   ]
  },
  {
   "cell_type": "code",
   "execution_count": 16,
   "id": "51c4cd0d",
   "metadata": {},
   "outputs": [],
   "source": [
    "def replace_vowels(svalue,schr):\n",
    "    vow=\"aeiou\"\n",
    "    for i in vow:\n",
    "        svalue=svalue.replace(i,schr)\n",
    "    return svalue       "
   ]
  },
  {
   "cell_type": "code",
   "execution_count": 21,
   "id": "121baaa8",
   "metadata": {},
   "outputs": [
    {
     "data": {
      "text/plain": [
       "'th# ##rdv#rk'"
      ]
     },
     "execution_count": 21,
     "metadata": {},
     "output_type": "execute_result"
    }
   ],
   "source": [
    "replace_vowels(\"the aardvark\",\"#\")"
   ]
  },
  {
   "cell_type": "code",
   "execution_count": 19,
   "id": "5fe3d35b",
   "metadata": {},
   "outputs": [
    {
     "data": {
      "text/plain": [
       "'m?nn?? m??s?'"
      ]
     },
     "execution_count": 19,
     "metadata": {},
     "output_type": "execute_result"
    }
   ],
   "source": [
    "replace_vowels(\"minnie mouse\", \"?\")"
   ]
  },
  {
   "cell_type": "code",
   "execution_count": 20,
   "id": "d09bf169",
   "metadata": {},
   "outputs": [
    {
     "data": {
      "text/plain": [
       "'sh*k*sp**r*'"
      ]
     },
     "execution_count": 20,
     "metadata": {},
     "output_type": "execute_result"
    }
   ],
   "source": [
    "replace_vowels(\"shakespeare\", \"*\")"
   ]
  },
  {
   "cell_type": "code",
   "execution_count": 24,
   "id": "6908ddc0",
   "metadata": {},
   "outputs": [],
   "source": [
    "def factorial(n):\n",
    "    if n ==0:\n",
    "        return 1\n",
    "    else:\n",
    "        return n*factorial(n-1)"
   ]
  },
  {
   "cell_type": "code",
   "execution_count": 25,
   "id": "41e8ed65",
   "metadata": {},
   "outputs": [
    {
     "data": {
      "text/plain": [
       "120"
      ]
     },
     "execution_count": 25,
     "metadata": {},
     "output_type": "execute_result"
    }
   ],
   "source": [
    "factorial(5)"
   ]
  }
 ],
 "metadata": {
  "kernelspec": {
   "display_name": "Python 3",
   "language": "python",
   "name": "python3"
  },
  "language_info": {
   "codemirror_mode": {
    "name": "ipython",
    "version": 3
   },
   "file_extension": ".py",
   "mimetype": "text/x-python",
   "name": "python",
   "nbconvert_exporter": "python",
   "pygments_lexer": "ipython3",
   "version": "3.6.9"
  }
 },
 "nbformat": 4,
 "nbformat_minor": 5
}
