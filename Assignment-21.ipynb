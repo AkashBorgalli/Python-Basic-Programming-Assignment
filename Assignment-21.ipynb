{
 "cells": [
  {
   "cell_type": "code",
   "execution_count": 20,
   "id": "a65dbac1",
   "metadata": {},
   "outputs": [],
   "source": [
    "import string\n",
    "def count_same_ends(s):\n",
    "    o = s.split(\" \")\n",
    "    global k\n",
    "    global d\n",
    "    invalidcharacters= set(string.punctuation)\n",
    "    for i in o:\n",
    "        for char in i:\n",
    "            if char in invalidcharacters:\n",
    "                k=i.replace(char,\"\")\n",
    "                d=o.index(i)     \n",
    "    else:\n",
    "        o.pop(d)        \n",
    "        o.insert(d,k)\n",
    "        for b in o:\n",
    "            if b[0].casefold()==b[-1]:\n",
    "                print(1)\n",
    "                break\n",
    "        else:\n",
    "            print(0)"
   ]
  },
  {
   "cell_type": "code",
   "execution_count": 21,
   "id": "23e98df2",
   "metadata": {},
   "outputs": [
    {
     "name": "stdout",
     "output_type": "stream",
     "text": [
      "1\n"
     ]
    }
   ],
   "source": [
    "count_same_ends(\"Pop! goes the balloon\") "
   ]
  },
  {
   "cell_type": "code",
   "execution_count": 22,
   "id": "f28c8f28",
   "metadata": {},
   "outputs": [
    {
     "name": "stdout",
     "output_type": "stream",
     "text": [
      "0\n"
     ]
    }
   ],
   "source": [
    "count_same_ends(\"And the crowd goes wild!\") "
   ]
  },
  {
   "cell_type": "code",
   "execution_count": 23,
   "id": "7bcf869e",
   "metadata": {},
   "outputs": [
    {
     "name": "stdout",
     "output_type": "stream",
     "text": [
      "1\n"
     ]
    }
   ],
   "source": [
    "count_same_ends(\"No I am not in a gang.\") "
   ]
  },
  {
   "cell_type": "code",
   "execution_count": 77,
   "id": "05e01f13",
   "metadata": {},
   "outputs": [],
   "source": [
    "a=string.ascii_lowercase\n",
    "b=string.ascii_uppercase\n",
    "lw = {}\n",
    "uc= {}\n",
    "genuc=(k for k in string.ascii_uppercase[::-1])\n",
    "gen = (j for j in string.ascii_lowercase[::-1] )\n",
    "for i in a:\n",
    "    lw[i]= next(gen)\n",
    "for q in b:\n",
    "    uc[q]= next(genuc)\n",
    "lw.update(uc)\n",
    "lw.update({'2':'2',\"5\":\"5\",\" \":\" \",\"!\":\"!\"})\n",
    "##################### function ##############################################\n",
    "def atbash(st):\n",
    "    new=\"\"\n",
    "    for i in st:\n",
    "        new+=lw[i]\n",
    "    return new"
   ]
  },
  {
   "cell_type": "code",
   "execution_count": 78,
   "id": "9c5664e1",
   "metadata": {},
   "outputs": [
    {
     "name": "stdout",
     "output_type": "stream",
     "text": [
      "zkkov\n",
      "Svool dliow!\n",
      "Xsirhgnzh rh gsv 25gs lu Wvxvnyvi\n"
     ]
    }
   ],
   "source": [
    "print(atbash(\"apple\"))\n",
    "print(atbash(\"Hello world!\"))\n",
    "print(atbash(\"Christmas is the 25th of December\"))"
   ]
  },
  {
   "cell_type": "code",
   "execution_count": 84,
   "id": "af3b27a1",
   "metadata": {},
   "outputs": [],
   "source": [
    "class Employee:\n",
    "    def __init__(self,name,salary=0,height=0,nationality=\"\",jobRole=\"\"):\n",
    "        self.name, self.lastname = name.split(' ')\n",
    "        self.salary = salary\n",
    "        self.height = height\n",
    "        self.nationality = nationality\n",
    "        self.jobRole = jobRole"
   ]
  },
  {
   "cell_type": "code",
   "execution_count": 86,
   "id": "f93062ac",
   "metadata": {},
   "outputs": [
    {
     "name": "stdout",
     "output_type": "stream",
     "text": [
      "John\n",
      "Major\n",
      "178\n",
      "Italian\n"
     ]
    }
   ],
   "source": [
    "john = Employee(\"John Doe\")\n",
    "mary = Employee(\"Mary Major\", salary=120000)\n",
    "richard = Employee(\"Richard Roe\", salary=110000, height=178)\n",
    "giancarlo = Employee(\"Giancarlo Rossi\", salary=115000, height=182, nationality=\"Italian\")\n",
    "print(john.name)\n",
    "print(mary.lastname)\n",
    "print(richard.height)\n",
    "print(giancarlo.nationality)"
   ]
  },
  {
   "cell_type": "code",
   "execution_count": 43,
   "id": "1b22c142",
   "metadata": {},
   "outputs": [],
   "source": [
    "def can_see_stage(seats):\n",
    "    try:\n",
    "        a=0\n",
    "        for index, i in enumerate(seats): \n",
    "            print(index,i[a])\n",
    "            a =a+1\n",
    "    except IndexError:\n",
    "        pass"
   ]
  },
  {
   "cell_type": "code",
   "execution_count": 44,
   "id": "e22f326d",
   "metadata": {},
   "outputs": [
    {
     "name": "stdout",
     "output_type": "stream",
     "text": [
      "0 1\n",
      "1 5\n",
      "2 9\n"
     ]
    }
   ],
   "source": [
    "can_see_stage([\n",
    "  [1, 2, 3],\n",
    "  [4, 5, 6],\n",
    "  [7, 8, 9]\n",
    "]) \n"
   ]
  },
  {
   "cell_type": "code",
   "execution_count": 7,
   "id": "5da63712",
   "metadata": {},
   "outputs": [
    {
     "data": {
      "text/plain": [
       "True"
      ]
     },
     "execution_count": 7,
     "metadata": {},
     "output_type": "execute_result"
    }
   ],
   "source": [
    "eval(\"1 < 4 < 7\")"
   ]
  },
  {
   "cell_type": "code",
   "execution_count": 24,
   "id": "97b4e306",
   "metadata": {},
   "outputs": [
    {
     "ename": "IndentationError",
     "evalue": "unexpected indent (<ipython-input-24-0dbb70925202>, line 2)",
     "output_type": "error",
     "traceback": [
      "\u001b[1;36m  File \u001b[1;32m\"<ipython-input-24-0dbb70925202>\"\u001b[1;36m, line \u001b[1;32m2\u001b[0m\n\u001b[1;33m    [4, 5, 6],\u001b[0m\n\u001b[1;37m    ^\u001b[0m\n\u001b[1;31mIndentationError\u001b[0m\u001b[1;31m:\u001b[0m unexpected indent\n"
     ]
    }
   ],
   "source": [
    "lo=[1, 2, 3],\n",
    "   [4, 5, 6],\n",
    "   [7, 8, 9]\n",
    "len(lo)"
   ]
  },
  {
   "cell_type": "code",
   "execution_count": null,
   "id": "8a06a2d2",
   "metadata": {},
   "outputs": [],
   "source": [
    "class Pizza:\n",
    "    def __init__()"
   ]
  },
  {
   "cell_type": "code",
   "execution_count": 41,
   "id": "a802321c",
   "metadata": {},
   "outputs": [],
   "source": [
    "def foo(lst):\n",
    "    a = 0\n",
    "    for i in lst:\n",
    "        a += i\n",
    "    return a"
   ]
  },
  {
   "cell_type": "code",
   "execution_count": 42,
   "id": "59ae9633",
   "metadata": {},
   "outputs": [
    {
     "data": {
      "text/plain": [
       "6"
      ]
     },
     "execution_count": 42,
     "metadata": {},
     "output_type": "execute_result"
    }
   ],
   "source": [
    "foo([1,2,3])"
   ]
  },
  {
   "cell_type": "code",
   "execution_count": 53,
   "id": "8c6c63fd",
   "metadata": {},
   "outputs": [],
   "source": [
    "def can_see_stage(seats):\n",
    "    try:\n",
    "        for index, i in enumerate(seats):\n",
    "            for j in range(len(i)):\n",
    "                lst=[]\n",
    "                print(seats[index][j],seats[index+1][j])\n",
    "                a=str(seats[index][j])\n",
    "                b=str(seats[index+1][j])\n",
    "                lst.append(a)\n",
    "                lst.append(b)\n",
    "                y=\"<\".join(lst)\n",
    "                if eval(y) == True:\n",
    "                    lst.clear()\n",
    "                    return True\n",
    "            #     if seats[index][j] >= seats[index+1][j]:\n",
    "            #         return False\n",
    "            return False\n",
    "    except IndexError:\n",
    "        pass"
   ]
  },
  {
   "cell_type": "code",
   "execution_count": 55,
   "id": "bdeb6538",
   "metadata": {},
   "outputs": [
    {
     "name": "stdout",
     "output_type": "stream",
     "text": [
      "1 8\n"
     ]
    },
    {
     "data": {
      "text/plain": [
       "True"
      ]
     },
     "execution_count": 55,
     "metadata": {},
     "output_type": "execute_result"
    }
   ],
   "source": [
    "can_see_stage([\n",
    "  [1, 2, 3],\n",
    "  [8, 5, 6],\n",
    "  [7, 8, 9]\n",
    "]) "
   ]
  },
  {
   "cell_type": "code",
   "execution_count": 49,
   "id": "0f79ba1c",
   "metadata": {},
   "outputs": [
    {
     "ename": "TypeError",
     "evalue": "list() takes at most 1 argument (2 given)",
     "output_type": "error",
     "traceback": [
      "\u001b[1;31m---------------------------------------------------------------------------\u001b[0m",
      "\u001b[1;31mTypeError\u001b[0m                                 Traceback (most recent call last)",
      "\u001b[1;32m<ipython-input-49-54d3d3ae89dc>\u001b[0m in \u001b[0;36m<module>\u001b[1;34m\u001b[0m\n\u001b[0;32m      1\u001b[0m \u001b[0ma\u001b[0m\u001b[1;33m,\u001b[0m\u001b[0mb\u001b[0m\u001b[1;33m=\u001b[0m\u001b[1;36m1\u001b[0m\u001b[1;33m,\u001b[0m\u001b[1;36m2\u001b[0m\u001b[1;33m\u001b[0m\u001b[1;33m\u001b[0m\u001b[0m\n\u001b[1;32m----> 2\u001b[1;33m \u001b[0mc\u001b[0m\u001b[1;33m=\u001b[0m\u001b[0mlist\u001b[0m\u001b[1;33m(\u001b[0m\u001b[0ma\u001b[0m\u001b[1;33m,\u001b[0m\u001b[0mb\u001b[0m\u001b[1;33m)\u001b[0m\u001b[1;33m\u001b[0m\u001b[1;33m\u001b[0m\u001b[0m\n\u001b[0m\u001b[0;32m      3\u001b[0m \u001b[0mprint\u001b[0m\u001b[1;33m(\u001b[0m\u001b[0mc\u001b[0m\u001b[1;33m)\u001b[0m\u001b[1;33m\u001b[0m\u001b[1;33m\u001b[0m\u001b[0m\n",
      "\u001b[1;31mTypeError\u001b[0m: list() takes at most 1 argument (2 given)"
     ]
    }
   ],
   "source": [
    "a,b=1,2\n",
    "c=list(a,b)\n",
    "print(c)"
   ]
  },
  {
   "cell_type": "code",
   "execution_count": null,
   "id": "f960c7d1",
   "metadata": {},
   "outputs": [],
   "source": []
  }
 ],
 "metadata": {
  "kernelspec": {
   "display_name": "Python 3",
   "language": "python",
   "name": "python3"
  },
  "language_info": {
   "codemirror_mode": {
    "name": "ipython",
    "version": 3
   },
   "file_extension": ".py",
   "mimetype": "text/x-python",
   "name": "python",
   "nbconvert_exporter": "python",
   "pygments_lexer": "ipython3",
   "version": "3.6.9"
  }
 },
 "nbformat": 4,
 "nbformat_minor": 5
}
