{
 "cells": [
  {
   "cell_type": "code",
   "execution_count": 1,
   "id": "e1db1fa7",
   "metadata": {},
   "outputs": [
    {
     "name": "stdout",
     "output_type": "stream",
     "text": [
      "How many numbers you want to insert: 4\n",
      "Enter number you want to insert 2\n",
      "Enter number you want to insert 4\n",
      "Enter number you want to insert 7\n",
      "Enter number you want to insert 8\n",
      "Sum of elements in given list is : 21\n"
     ]
    }
   ],
   "source": [
    "lst = []\n",
    "num = int(input('How many numbers you want to insert: '))\n",
    "for n in range(num):\n",
    "    numbers = int(input('Enter number you want to insert '))\n",
    "    lst.append(numbers)\n",
    "print(\"Sum of elements in given list is :\", sum(lst))"
   ]
  },
  {
   "cell_type": "code",
   "execution_count": 42,
   "id": "ff02560b",
   "metadata": {},
   "outputs": [
    {
     "name": "stdout",
     "output_type": "stream",
     "text": [
      "Multiplication of the given elements in the list is 120\n"
     ]
    }
   ],
   "source": [
    "lst=[1,2,3,4,5]\n",
    "mul=1\n",
    "for i in lst:\n",
    "    mul=mul*i\n",
    "print('Multiplication of the given elements in the list is',mul)"
   ]
  },
  {
   "cell_type": "code",
   "execution_count": 14,
   "id": "550648bd",
   "metadata": {},
   "outputs": [
    {
     "name": "stdout",
     "output_type": "stream",
     "text": [
      "Smallest Number from the given list is 2\n"
     ]
    }
   ],
   "source": [
    "lst=[23,54,6,8,4,2,19]\n",
    "print('Smallest Number from the given list is',min(lst))"
   ]
  },
  {
   "cell_type": "code",
   "execution_count": 15,
   "id": "f3f7a109",
   "metadata": {},
   "outputs": [
    {
     "name": "stdout",
     "output_type": "stream",
     "text": [
      "Maximum Number from the given list is 54\n"
     ]
    }
   ],
   "source": [
    "lst=[23,54,6,8,4,2,19]\n",
    "print('Maximum Number from the given list is',max(lst))"
   ]
  },
  {
   "cell_type": "code",
   "execution_count": 29,
   "id": "56ec5351",
   "metadata": {},
   "outputs": [
    {
     "name": "stdout",
     "output_type": "stream",
     "text": [
      "Sorted List: [2, 4, 6, 8, 19, 23, 54]\n",
      "The Second Largest element in the list is 23\n"
     ]
    }
   ],
   "source": [
    "lst=[23,54,6,8,4,2,19]\n",
    "lst.sort()\n",
    "print(\"Sorted List:\",lst)\n",
    "print(\"The Second Largest element in the list is\",lst[-2])"
   ]
  },
  {
   "cell_type": "code",
   "execution_count": 44,
   "id": "08c6bca3",
   "metadata": {},
   "outputs": [
    {
     "name": "stdout",
     "output_type": "stream",
     "text": [
      "Enter number: 2\n",
      "Sorted List: [2, 4, 6, 8, 19, 23, 54]\n",
      "The 2 Largest elements in the list are [23, 54]\n"
     ]
    }
   ],
   "source": [
    "lst=[23,54,6,8,4,2,19]\n",
    "num=int(input(\"Enter number: \"))\n",
    "if(num > len(lst)):\n",
    "    print(\"Sorry You have entered Number greater than the size of list\")\n",
    "else:\n",
    "    lst.sort()\n",
    "    print(\"Sorted List:\",lst)\n",
    "    print(\"The\" ,num, \"Largest elements in the list are\",lst[-num:])"
   ]
  },
  {
   "cell_type": "code",
   "execution_count": 33,
   "id": "b128e2cf",
   "metadata": {},
   "outputs": [
    {
     "data": {
      "text/plain": [
       "[0, 2, 4, 6, 8, 10]"
      ]
     },
     "execution_count": 33,
     "metadata": {},
     "output_type": "execute_result"
    }
   ],
   "source": [
    "[even for even in range(11) if even%2==0]"
   ]
  },
  {
   "cell_type": "code",
   "execution_count": 34,
   "id": "6a8533a6",
   "metadata": {},
   "outputs": [
    {
     "data": {
      "text/plain": [
       "[1, 3, 5, 7, 9]"
      ]
     },
     "execution_count": 34,
     "metadata": {},
     "output_type": "execute_result"
    }
   ],
   "source": [
    "[odd for odd in range(11) if odd%2!=0]"
   ]
  },
  {
   "cell_type": "code",
   "execution_count": 38,
   "id": "389db9d7",
   "metadata": {},
   "outputs": [
    {
     "name": "stdout",
     "output_type": "stream",
     "text": [
      "After Removing Empty lists inside list: ['Akash', 'Borgalli', 23, 4, 5, 6, 7, 8, [23, 89, 76], True, False, 12.5, 89.87]\n"
     ]
    }
   ],
   "source": [
    "lst=['Akash','Borgalli',23,4,5,6,7,8,[23,89,76],[],True,[],False,12.5,89.87]\n",
    "for i in lst:\n",
    "    if type(i)== list and len(i)==0:\n",
    "        lst.remove(i)\n",
    "print('After Removing Empty lists inside list:',lst)        "
   ]
  },
  {
   "cell_type": "code",
   "execution_count": 41,
   "id": "a15c6b20",
   "metadata": {},
   "outputs": [
    {
     "name": "stdout",
     "output_type": "stream",
     "text": [
      "[1, 2, 3, 4]\n",
      "[1, 2, 3, 4]\n",
      "After Update List1 remains same because of copy function: [1, 2, 3, 4]\n",
      "Updated list 2 [1, 1998, 3, 4]\n"
     ]
    }
   ],
   "source": [
    "## shallow copy\n",
    "lst1=[1,2,3,4]\n",
    "lst2=lst1.copy()\n",
    "print(lst1)\n",
    "print(lst2)\n",
    "lst2[1]=1998\n",
    "print('After Update List1 remains same because of copy function:',lst1)\n",
    "print('Updated list 2',lst2)"
   ]
  },
  {
   "cell_type": "code",
   "execution_count": 57,
   "id": "bf6281f1",
   "metadata": {},
   "outputs": [
    {
     "name": "stdout",
     "output_type": "stream",
     "text": [
      "Akash occured 2 times\n",
      "5 occured 3 times\n",
      "Borgalli occured 1 times\n",
      "23 occured 1 times\n",
      "4 occured 4 times\n",
      "45 occured 2 times\n",
      "6 occured 1 times\n",
      "7 occured 2 times\n",
      "3 occured 1 times\n",
      "8 occured 1 times\n"
     ]
    }
   ],
   "source": [
    "lst=['Akash',5,'Borgalli',23,4,'Akash',45,6,7,7,45,4,3,8,5,4,5,4]\n",
    "st= set()\n",
    "for i in lst:\n",
    "    if i in st:\n",
    "        pass\n",
    "    else:\n",
    "        print(i,'occured',lst.count(i),'times')\n",
    "        st.add(i) "
   ]
  }
 ],
 "metadata": {
  "kernelspec": {
   "display_name": "Python 3",
   "language": "python",
   "name": "python3"
  },
  "language_info": {
   "codemirror_mode": {
    "name": "ipython",
    "version": 3
   },
   "file_extension": ".py",
   "mimetype": "text/x-python",
   "name": "python",
   "nbconvert_exporter": "python",
   "pygments_lexer": "ipython3",
   "version": "3.6.9"
  }
 },
 "nbformat": 4,
 "nbformat_minor": 5
}
